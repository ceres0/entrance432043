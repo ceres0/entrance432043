{
 "cells": [
  {
   "cell_type": "code",
   "execution_count": 1,
   "metadata": {},
   "outputs": [],
   "source": [
    "import pandas as pd\n",
    "from tqdm import tqdm\n",
    "import feather"
   ]
  },
  {
   "cell_type": "code",
   "execution_count": null,
   "metadata": {},
   "outputs": [],
   "source": [
    "item_data = pd.read_csv('dataset\\\\tianchi_fresh_comp_train_item_online.txt', sep='\\t', header=None, names=['item_id', 'item_geohash', 'item_category'])\n",
    "print(item_data.head())  # 查看前几行数据\n",
    "print(item_data.info())  # 查看数据的基本信息，如列名、非空值数量、数据类型等"
   ]
  },
  {
   "cell_type": "code",
   "execution_count": null,
   "metadata": {},
   "outputs": [],
   "source": [
    "# 统计item_geohash缺失值的数量\n",
    "item_geohash_null = item_data['item_geohash'].isnull().sum()\n",
    "print(\"item_geohash缺失：{:} {:.1f}%\".format(item_geohash_null, item_geohash_null / len(item_data) * 100))"
   ]
  },
  {
   "cell_type": "code",
   "execution_count": 3,
   "metadata": {},
   "outputs": [],
   "source": [
    "chunksize = 20000000\n",
    "\n",
    "readers = [pd.read_csv('dataset\\\\tianchi_fresh_comp_train_user_online_partA.txt', sep='\\t', header=None, names=['user_id', 'item_id', 'behavior_type', 'user_geohash', 'item_category', 'time'], chunksize=chunksize), pd.read_csv('dataset\\\\tianchi_fresh_comp_train_user_online_partB.txt', sep='\\t', header=None, names=['user_id', 'item_id', 'behavior_type', 'user_geohash', 'item_category', 'time'], chunksize=chunksize)]\n"
   ]
  },
  {
   "cell_type": "markdown",
   "metadata": {},
   "source": [
    "以下内容用以前期数据统计"
   ]
  },
  {
   "cell_type": "code",
   "execution_count": null,
   "metadata": {},
   "outputs": [],
   "source": [
    "behavior_num = 0\n",
    "behavior_geohash_null = 0\n",
    "# 统计购买行为，即behavior_type=4的数量\n",
    "behavior_buy_num = 0\n",
    "\n",
    "for reader in readers:\n",
    "    for chunk in tqdm(reader):\n",
    "        behavior_num += len(chunk)\n",
    "        behavior_geohash_null += chunk['user_geohash'].isnull().sum()\n",
    "        behavior_buy_num += len(chunk[chunk['behavior_type'] == 4])\n",
    "        # user_ids.update(chunk['user_id'].values)\n",
    "    \n",
    "print(\"用户行为总数：\", behavior_num)\n",
    "print(\"user_geohash缺失：{:} {:.1f}%\".format(behavior_geohash_null, behavior_geohash_null / behavior_num * 100))\n"
   ]
  },
  {
   "cell_type": "markdown",
   "metadata": {},
   "source": [
    "以下内容用以从行为数据中提取特征"
   ]
  },
  {
   "cell_type": "code",
   "execution_count": 3,
   "metadata": {},
   "outputs": [
    {
     "name": "stdout",
     "output_type": "stream",
     "text": [
      "           value_col1  value_col2\n",
      "index_col                        \n",
      "a                   1           4\n",
      "b                   9          15\n",
      "c                  11          17\n",
      "d                   9          12\n"
     ]
    }
   ],
   "source": [
    "import pandas as pd\n",
    "\n",
    "# 假设原有的数据\n",
    "old_data = pd.DataFrame({\n",
    "    'index_col': ['a', 'b', 'c'],\n",
    "    'value_col1': [1, 2, 3],\n",
    "    'value_col2': [4, 5, 6]\n",
    "}).set_index('index_col')\n",
    "\n",
    "# 假设新的数据\n",
    "new_data = pd.DataFrame({\n",
    "    'index_col': ['b', 'c', 'd'],\n",
    "    'value_col1': [7, 8, 9],\n",
    "    'value_col2': [10, 11, 12]\n",
    "}).set_index('index_col')\n",
    "\n",
    "\n",
    "# 合并数据\n",
    "result_df = pd.concat([old_data, new_data], axis=0)\n",
    "result_df = result_df.groupby(result_df.index).sum()\n",
    "\n",
    "\n",
    "print(result_df)"
   ]
  },
  {
   "cell_type": "code",
   "execution_count": 4,
   "metadata": {},
   "outputs": [
    {
     "name": "stderr",
     "output_type": "stream",
     "text": [
      "0it [00:00, ?it/s]"
     ]
    },
    {
     "name": "stderr",
     "output_type": "stream",
     "text": [
      "30it [1:07:07, 134.27s/it]\n",
      "0it [04:11, ?it/s]\n"
     ]
    },
    {
     "ename": "MemoryError",
     "evalue": "Unable to allocate 5.12 GiB for an array with shape (229019303, 3) and data type float64",
     "output_type": "error",
     "traceback": [
      "\u001b[1;31m---------------------------------------------------------------------------\u001b[0m",
      "\u001b[1;31mMemoryError\u001b[0m                               Traceback (most recent call last)",
      "\u001b[1;32m~\\AppData\\Local\\Temp\\ipykernel_13844\\1054065177.py\u001b[0m in \u001b[0;36m<module>\u001b[1;34m\u001b[0m\n\u001b[0;32m      8\u001b[0m         \u001b[0mbehavior_count\u001b[0m\u001b[1;33m.\u001b[0m\u001b[0mrename\u001b[0m\u001b[1;33m(\u001b[0m\u001b[0mcolumns\u001b[0m\u001b[1;33m=\u001b[0m\u001b[1;33m{\u001b[0m\u001b[1;36m1\u001b[0m\u001b[1;33m:\u001b[0m \u001b[1;34m'view_count'\u001b[0m\u001b[1;33m,\u001b[0m \u001b[1;36m2\u001b[0m\u001b[1;33m:\u001b[0m \u001b[1;34m'collect_count'\u001b[0m\u001b[1;33m,\u001b[0m \u001b[1;36m3\u001b[0m\u001b[1;33m:\u001b[0m \u001b[1;34m'cart_count'\u001b[0m\u001b[1;33m,\u001b[0m \u001b[1;36m4\u001b[0m\u001b[1;33m:\u001b[0m \u001b[1;34m'buy_count'\u001b[0m\u001b[1;33m}\u001b[0m\u001b[1;33m,\u001b[0m \u001b[0minplace\u001b[0m\u001b[1;33m=\u001b[0m\u001b[1;32mTrue\u001b[0m\u001b[1;33m)\u001b[0m\u001b[1;33m\u001b[0m\u001b[1;33m\u001b[0m\u001b[0m\n\u001b[0;32m      9\u001b[0m         \u001b[0muser_behavior\u001b[0m \u001b[1;33m=\u001b[0m \u001b[0mpd\u001b[0m\u001b[1;33m.\u001b[0m\u001b[0mconcat\u001b[0m\u001b[1;33m(\u001b[0m\u001b[1;33m[\u001b[0m\u001b[0muser_behavior\u001b[0m\u001b[1;33m,\u001b[0m \u001b[0mbehavior_count\u001b[0m\u001b[1;33m]\u001b[0m\u001b[1;33m,\u001b[0m \u001b[0maxis\u001b[0m\u001b[1;33m=\u001b[0m\u001b[1;36m0\u001b[0m\u001b[1;33m)\u001b[0m\u001b[1;33m\u001b[0m\u001b[1;33m\u001b[0m\u001b[0m\n\u001b[1;32m---> 10\u001b[1;33m         \u001b[0muser_behavior\u001b[0m \u001b[1;33m=\u001b[0m \u001b[0muser_behavior\u001b[0m\u001b[1;33m.\u001b[0m\u001b[0mgroupby\u001b[0m\u001b[1;33m(\u001b[0m\u001b[1;33m[\u001b[0m\u001b[1;34m'user_id'\u001b[0m\u001b[1;33m,\u001b[0m \u001b[1;34m'item_id'\u001b[0m\u001b[1;33m]\u001b[0m\u001b[1;33m)\u001b[0m\u001b[1;33m.\u001b[0m\u001b[0msum\u001b[0m\u001b[1;33m(\u001b[0m\u001b[1;33m)\u001b[0m\u001b[1;33m\u001b[0m\u001b[1;33m\u001b[0m\u001b[0m\n\u001b[0m",
      "\u001b[1;32mc:\\DevTools\\anaconda3\\envs\\pytorch_gpu\\lib\\site-packages\\pandas\\core\\groupby\\groupby.py\u001b[0m in \u001b[0;36msum\u001b[1;34m(self, numeric_only, min_count)\u001b[0m\n\u001b[0;32m   1851\u001b[0m                 \u001b[0mmin_count\u001b[0m\u001b[1;33m=\u001b[0m\u001b[0mmin_count\u001b[0m\u001b[1;33m,\u001b[0m\u001b[1;33m\u001b[0m\u001b[1;33m\u001b[0m\u001b[0m\n\u001b[0;32m   1852\u001b[0m                 \u001b[0malias\u001b[0m\u001b[1;33m=\u001b[0m\u001b[1;34m\"add\"\u001b[0m\u001b[1;33m,\u001b[0m\u001b[1;33m\u001b[0m\u001b[1;33m\u001b[0m\u001b[0m\n\u001b[1;32m-> 1853\u001b[1;33m                 \u001b[0mnpfunc\u001b[0m\u001b[1;33m=\u001b[0m\u001b[0mnp\u001b[0m\u001b[1;33m.\u001b[0m\u001b[0msum\u001b[0m\u001b[1;33m,\u001b[0m\u001b[1;33m\u001b[0m\u001b[1;33m\u001b[0m\u001b[0m\n\u001b[0m\u001b[0;32m   1854\u001b[0m             )\n\u001b[0;32m   1855\u001b[0m \u001b[1;33m\u001b[0m\u001b[0m\n",
      "\u001b[1;32mc:\\DevTools\\anaconda3\\envs\\pytorch_gpu\\lib\\site-packages\\pandas\\core\\groupby\\groupby.py\u001b[0m in \u001b[0;36m_agg_general\u001b[1;34m(self, numeric_only, min_count, alias, npfunc)\u001b[0m\n\u001b[0;32m   1366\u001b[0m                 \u001b[0malt\u001b[0m\u001b[1;33m=\u001b[0m\u001b[0mnpfunc\u001b[0m\u001b[1;33m,\u001b[0m\u001b[1;33m\u001b[0m\u001b[1;33m\u001b[0m\u001b[0m\n\u001b[0;32m   1367\u001b[0m                 \u001b[0mnumeric_only\u001b[0m\u001b[1;33m=\u001b[0m\u001b[0mnumeric_only\u001b[0m\u001b[1;33m,\u001b[0m\u001b[1;33m\u001b[0m\u001b[1;33m\u001b[0m\u001b[0m\n\u001b[1;32m-> 1368\u001b[1;33m                 \u001b[0mmin_count\u001b[0m\u001b[1;33m=\u001b[0m\u001b[0mmin_count\u001b[0m\u001b[1;33m,\u001b[0m\u001b[1;33m\u001b[0m\u001b[1;33m\u001b[0m\u001b[0m\n\u001b[0m\u001b[0;32m   1369\u001b[0m             )\n\u001b[0;32m   1370\u001b[0m             \u001b[1;32mreturn\u001b[0m \u001b[0mresult\u001b[0m\u001b[1;33m.\u001b[0m\u001b[0m__finalize__\u001b[0m\u001b[1;33m(\u001b[0m\u001b[0mself\u001b[0m\u001b[1;33m.\u001b[0m\u001b[0mobj\u001b[0m\u001b[1;33m,\u001b[0m \u001b[0mmethod\u001b[0m\u001b[1;33m=\u001b[0m\u001b[1;34m\"groupby\"\u001b[0m\u001b[1;33m)\u001b[0m\u001b[1;33m\u001b[0m\u001b[1;33m\u001b[0m\u001b[0m\n",
      "\u001b[1;32mc:\\DevTools\\anaconda3\\envs\\pytorch_gpu\\lib\\site-packages\\pandas\\core\\groupby\\generic.py\u001b[0m in \u001b[0;36m_cython_agg_general\u001b[1;34m(self, how, alt, numeric_only, min_count)\u001b[0m\n\u001b[0;32m   1080\u001b[0m         \u001b[1;31m# TypeError -> we may have an exception in trying to aggregate\u001b[0m\u001b[1;33m\u001b[0m\u001b[1;33m\u001b[0m\u001b[1;33m\u001b[0m\u001b[0m\n\u001b[0;32m   1081\u001b[0m         \u001b[1;31m#  continue and exclude the block\u001b[0m\u001b[1;33m\u001b[0m\u001b[1;33m\u001b[0m\u001b[1;33m\u001b[0m\u001b[0m\n\u001b[1;32m-> 1082\u001b[1;33m         \u001b[0mnew_mgr\u001b[0m \u001b[1;33m=\u001b[0m \u001b[0mdata\u001b[0m\u001b[1;33m.\u001b[0m\u001b[0mgrouped_reduce\u001b[0m\u001b[1;33m(\u001b[0m\u001b[0marray_func\u001b[0m\u001b[1;33m,\u001b[0m \u001b[0mignore_failures\u001b[0m\u001b[1;33m=\u001b[0m\u001b[1;32mTrue\u001b[0m\u001b[1;33m)\u001b[0m\u001b[1;33m\u001b[0m\u001b[1;33m\u001b[0m\u001b[0m\n\u001b[0m\u001b[0;32m   1083\u001b[0m \u001b[1;33m\u001b[0m\u001b[0m\n\u001b[0;32m   1084\u001b[0m         \u001b[1;32mif\u001b[0m \u001b[0mlen\u001b[0m\u001b[1;33m(\u001b[0m\u001b[0mnew_mgr\u001b[0m\u001b[1;33m)\u001b[0m \u001b[1;33m<\u001b[0m \u001b[0mlen\u001b[0m\u001b[1;33m(\u001b[0m\u001b[0mdata\u001b[0m\u001b[1;33m)\u001b[0m\u001b[1;33m:\u001b[0m\u001b[1;33m\u001b[0m\u001b[1;33m\u001b[0m\u001b[0m\n",
      "\u001b[1;32mc:\\DevTools\\anaconda3\\envs\\pytorch_gpu\\lib\\site-packages\\pandas\\core\\internals\\managers.py\u001b[0m in \u001b[0;36mgrouped_reduce\u001b[1;34m(self, func, ignore_failures)\u001b[0m\n\u001b[0;32m   1241\u001b[0m             \u001b[1;32melse\u001b[0m\u001b[1;33m:\u001b[0m\u001b[1;33m\u001b[0m\u001b[1;33m\u001b[0m\u001b[0m\n\u001b[0;32m   1242\u001b[0m                 \u001b[1;32mtry\u001b[0m\u001b[1;33m:\u001b[0m\u001b[1;33m\u001b[0m\u001b[1;33m\u001b[0m\u001b[0m\n\u001b[1;32m-> 1243\u001b[1;33m                     \u001b[0mapplied\u001b[0m \u001b[1;33m=\u001b[0m \u001b[0mblk\u001b[0m\u001b[1;33m.\u001b[0m\u001b[0mapply\u001b[0m\u001b[1;33m(\u001b[0m\u001b[0mfunc\u001b[0m\u001b[1;33m)\u001b[0m\u001b[1;33m\u001b[0m\u001b[1;33m\u001b[0m\u001b[0m\n\u001b[0m\u001b[0;32m   1244\u001b[0m                 \u001b[1;32mexcept\u001b[0m \u001b[1;33m(\u001b[0m\u001b[0mTypeError\u001b[0m\u001b[1;33m,\u001b[0m \u001b[0mNotImplementedError\u001b[0m\u001b[1;33m)\u001b[0m\u001b[1;33m:\u001b[0m\u001b[1;33m\u001b[0m\u001b[1;33m\u001b[0m\u001b[0m\n\u001b[0;32m   1245\u001b[0m                     \u001b[1;32mif\u001b[0m \u001b[1;32mnot\u001b[0m \u001b[0mignore_failures\u001b[0m\u001b[1;33m:\u001b[0m\u001b[1;33m\u001b[0m\u001b[1;33m\u001b[0m\u001b[0m\n",
      "\u001b[1;32mc:\\DevTools\\anaconda3\\envs\\pytorch_gpu\\lib\\site-packages\\pandas\\core\\internals\\blocks.py\u001b[0m in \u001b[0;36mapply\u001b[1;34m(self, func, **kwargs)\u001b[0m\n\u001b[0;32m    379\u001b[0m         \"\"\"\n\u001b[0;32m    380\u001b[0m         \u001b[1;32mwith\u001b[0m \u001b[0mnp\u001b[0m\u001b[1;33m.\u001b[0m\u001b[0merrstate\u001b[0m\u001b[1;33m(\u001b[0m\u001b[0mall\u001b[0m\u001b[1;33m=\u001b[0m\u001b[1;34m\"ignore\"\u001b[0m\u001b[1;33m)\u001b[0m\u001b[1;33m:\u001b[0m\u001b[1;33m\u001b[0m\u001b[1;33m\u001b[0m\u001b[0m\n\u001b[1;32m--> 381\u001b[1;33m             \u001b[0mresult\u001b[0m \u001b[1;33m=\u001b[0m \u001b[0mfunc\u001b[0m\u001b[1;33m(\u001b[0m\u001b[0mself\u001b[0m\u001b[1;33m.\u001b[0m\u001b[0mvalues\u001b[0m\u001b[1;33m,\u001b[0m \u001b[1;33m**\u001b[0m\u001b[0mkwargs\u001b[0m\u001b[1;33m)\u001b[0m\u001b[1;33m\u001b[0m\u001b[1;33m\u001b[0m\u001b[0m\n\u001b[0m\u001b[0;32m    382\u001b[0m \u001b[1;33m\u001b[0m\u001b[0m\n\u001b[0;32m    383\u001b[0m         \u001b[1;32mreturn\u001b[0m \u001b[0mself\u001b[0m\u001b[1;33m.\u001b[0m\u001b[0m_split_op_result\u001b[0m\u001b[1;33m(\u001b[0m\u001b[0mresult\u001b[0m\u001b[1;33m)\u001b[0m\u001b[1;33m\u001b[0m\u001b[1;33m\u001b[0m\u001b[0m\n",
      "\u001b[1;32mc:\\DevTools\\anaconda3\\envs\\pytorch_gpu\\lib\\site-packages\\pandas\\core\\groupby\\generic.py\u001b[0m in \u001b[0;36marray_func\u001b[1;34m(values)\u001b[0m\n\u001b[0;32m   1067\u001b[0m             \u001b[1;32mtry\u001b[0m\u001b[1;33m:\u001b[0m\u001b[1;33m\u001b[0m\u001b[1;33m\u001b[0m\u001b[0m\n\u001b[0;32m   1068\u001b[0m                 result = self.grouper._cython_operation(\n\u001b[1;32m-> 1069\u001b[1;33m                     \u001b[1;34m\"aggregate\"\u001b[0m\u001b[1;33m,\u001b[0m \u001b[0mvalues\u001b[0m\u001b[1;33m,\u001b[0m \u001b[0mhow\u001b[0m\u001b[1;33m,\u001b[0m \u001b[0maxis\u001b[0m\u001b[1;33m=\u001b[0m\u001b[0mdata\u001b[0m\u001b[1;33m.\u001b[0m\u001b[0mndim\u001b[0m \u001b[1;33m-\u001b[0m \u001b[1;36m1\u001b[0m\u001b[1;33m,\u001b[0m \u001b[0mmin_count\u001b[0m\u001b[1;33m=\u001b[0m\u001b[0mmin_count\u001b[0m\u001b[1;33m\u001b[0m\u001b[1;33m\u001b[0m\u001b[0m\n\u001b[0m\u001b[0;32m   1070\u001b[0m                 )\n\u001b[0;32m   1071\u001b[0m             \u001b[1;32mexcept\u001b[0m \u001b[0mNotImplementedError\u001b[0m\u001b[1;33m:\u001b[0m\u001b[1;33m\u001b[0m\u001b[1;33m\u001b[0m\u001b[0m\n",
      "\u001b[1;32mc:\\DevTools\\anaconda3\\envs\\pytorch_gpu\\lib\\site-packages\\pandas\\core\\groupby\\ops.py\u001b[0m in \u001b[0;36m_cython_operation\u001b[1;34m(self, kind, values, how, axis, min_count, **kwargs)\u001b[0m\n\u001b[0;32m   1014\u001b[0m             \u001b[0mcomp_ids\u001b[0m\u001b[1;33m=\u001b[0m\u001b[0mids\u001b[0m\u001b[1;33m,\u001b[0m\u001b[1;33m\u001b[0m\u001b[1;33m\u001b[0m\u001b[0m\n\u001b[0;32m   1015\u001b[0m             \u001b[0mngroups\u001b[0m\u001b[1;33m=\u001b[0m\u001b[0mngroups\u001b[0m\u001b[1;33m,\u001b[0m\u001b[1;33m\u001b[0m\u001b[1;33m\u001b[0m\u001b[0m\n\u001b[1;32m-> 1016\u001b[1;33m             \u001b[1;33m**\u001b[0m\u001b[0mkwargs\u001b[0m\u001b[1;33m,\u001b[0m\u001b[1;33m\u001b[0m\u001b[1;33m\u001b[0m\u001b[0m\n\u001b[0m\u001b[0;32m   1017\u001b[0m         )\n\u001b[0;32m   1018\u001b[0m \u001b[1;33m\u001b[0m\u001b[0m\n",
      "\u001b[1;32mc:\\DevTools\\anaconda3\\envs\\pytorch_gpu\\lib\\site-packages\\pandas\\core\\groupby\\ops.py\u001b[0m in \u001b[0;36mcython_operation\u001b[1;34m(self, values, axis, min_count, comp_ids, ngroups, **kwargs)\u001b[0m\n\u001b[0;32m    675\u001b[0m             \u001b[0mcomp_ids\u001b[0m\u001b[1;33m=\u001b[0m\u001b[0mcomp_ids\u001b[0m\u001b[1;33m,\u001b[0m\u001b[1;33m\u001b[0m\u001b[1;33m\u001b[0m\u001b[0m\n\u001b[0;32m    676\u001b[0m             \u001b[0mmask\u001b[0m\u001b[1;33m=\u001b[0m\u001b[1;32mNone\u001b[0m\u001b[1;33m,\u001b[0m\u001b[1;33m\u001b[0m\u001b[1;33m\u001b[0m\u001b[0m\n\u001b[1;32m--> 677\u001b[1;33m             \u001b[1;33m**\u001b[0m\u001b[0mkwargs\u001b[0m\u001b[1;33m,\u001b[0m\u001b[1;33m\u001b[0m\u001b[1;33m\u001b[0m\u001b[0m\n\u001b[0m\u001b[0;32m    678\u001b[0m         )\n\u001b[0;32m    679\u001b[0m \u001b[1;33m\u001b[0m\u001b[0m\n",
      "\u001b[1;32mc:\\DevTools\\anaconda3\\envs\\pytorch_gpu\\lib\\site-packages\\pandas\\core\\groupby\\ops.py\u001b[0m in \u001b[0;36m_cython_op_ndim_compat\u001b[1;34m(self, values, min_count, ngroups, comp_ids, mask, **kwargs)\u001b[0m\n\u001b[0;32m    520\u001b[0m             \u001b[0mcomp_ids\u001b[0m\u001b[1;33m=\u001b[0m\u001b[0mcomp_ids\u001b[0m\u001b[1;33m,\u001b[0m\u001b[1;33m\u001b[0m\u001b[1;33m\u001b[0m\u001b[0m\n\u001b[0;32m    521\u001b[0m             \u001b[0mmask\u001b[0m\u001b[1;33m=\u001b[0m\u001b[0mmask\u001b[0m\u001b[1;33m,\u001b[0m\u001b[1;33m\u001b[0m\u001b[1;33m\u001b[0m\u001b[0m\n\u001b[1;32m--> 522\u001b[1;33m             \u001b[1;33m**\u001b[0m\u001b[0mkwargs\u001b[0m\u001b[1;33m,\u001b[0m\u001b[1;33m\u001b[0m\u001b[1;33m\u001b[0m\u001b[0m\n\u001b[0m\u001b[0;32m    523\u001b[0m         )\n\u001b[0;32m    524\u001b[0m \u001b[1;33m\u001b[0m\u001b[0m\n",
      "\u001b[1;32mc:\\DevTools\\anaconda3\\envs\\pytorch_gpu\\lib\\site-packages\\pandas\\core\\groupby\\ops.py\u001b[0m in \u001b[0;36m_call_cython_op\u001b[1;34m(self, values, min_count, ngroups, comp_ids, mask, **kwargs)\u001b[0m\n\u001b[0;32m    584\u001b[0m                     \u001b[0mcomp_ids\u001b[0m\u001b[1;33m,\u001b[0m\u001b[1;33m\u001b[0m\u001b[1;33m\u001b[0m\u001b[0m\n\u001b[0;32m    585\u001b[0m                     \u001b[0mmin_count\u001b[0m\u001b[1;33m,\u001b[0m\u001b[1;33m\u001b[0m\u001b[1;33m\u001b[0m\u001b[0m\n\u001b[1;32m--> 586\u001b[1;33m                     \u001b[0mdatetimelike\u001b[0m\u001b[1;33m=\u001b[0m\u001b[0mis_datetimelike\u001b[0m\u001b[1;33m,\u001b[0m\u001b[1;33m\u001b[0m\u001b[1;33m\u001b[0m\u001b[0m\n\u001b[0m\u001b[0;32m    587\u001b[0m                 )\n\u001b[0;32m    588\u001b[0m             \u001b[1;32melse\u001b[0m\u001b[1;33m:\u001b[0m\u001b[1;33m\u001b[0m\u001b[1;33m\u001b[0m\u001b[0m\n",
      "\u001b[1;32mc:\\DevTools\\anaconda3\\envs\\pytorch_gpu\\lib\\site-packages\\pandas\\_libs\\groupby.pyx\u001b[0m in \u001b[0;36mpandas._libs.groupby.group_add\u001b[1;34m()\u001b[0m\n",
      "\u001b[1;31mMemoryError\u001b[0m: Unable to allocate 5.12 GiB for an array with shape (229019303, 3) and data type float64"
     ]
    }
   ],
   "source": [
    "# 创建一个DataFrame对象，用于存储用户行为特征（用户ID，商品ID，浏览次数、收藏次数、购物车次数、购买次数）\n",
    "user_behavior = pd.DataFrame(columns=['user_id', 'item_id', 'view_count', 'collect_count', 'add_count', 'buy_count'])\n",
    "\n",
    "for reader in readers:\n",
    "    for chunk in tqdm(reader):\n",
    "        # 统计每个用户对每个商品的浏览、收藏、加购物车、购买次数\n",
    "        behavior_count = chunk.groupby(['user_id','item_id'])['behavior_type'].value_counts().unstack(fill_value=0)\n",
    "        behavior_count.rename(columns={1: 'view_count', 2: 'collect_count', 3: 'cart_count', 4: 'buy_count'}, inplace=True)\n",
    "        user_behavior = pd.concat([user_behavior, behavior_count], axis=0)\n",
    "        user_behavior = user_behavior.groupby(['user_id', 'item_id']).sum()\n"
   ]
  },
  {
   "cell_type": "code",
   "execution_count": 8,
   "metadata": {},
   "outputs": [
    {
     "ename": "MemoryError",
     "evalue": "Unable to allocate 1.71 GiB for an array with shape (1, 229042367) and data type float64",
     "output_type": "error",
     "traceback": [
      "\u001b[1;31m---------------------------------------------------------------------------\u001b[0m",
      "\u001b[1;31mMemoryError\u001b[0m                               Traceback (most recent call last)",
      "\u001b[1;32m~\\AppData\\Local\\Temp\\ipykernel_13844\\3309598824.py\u001b[0m in \u001b[0;36m<module>\u001b[1;34m\u001b[0m\n\u001b[0;32m      1\u001b[0m \u001b[0mbehavior_count\u001b[0m \u001b[1;33m=\u001b[0m \u001b[1;32mNone\u001b[0m\u001b[1;33m\u001b[0m\u001b[1;33m\u001b[0m\u001b[0m\n\u001b[1;32m----> 2\u001b[1;33m \u001b[0muser_behavior\u001b[0m\u001b[1;33m.\u001b[0m\u001b[0mreset_index\u001b[0m\u001b[1;33m(\u001b[0m\u001b[1;33m)\u001b[0m\u001b[1;33m.\u001b[0m\u001b[0mto_feather\u001b[0m\u001b[1;33m(\u001b[0m\u001b[1;34m'feature/user_behavior_halfdata.feather'\u001b[0m\u001b[1;33m)\u001b[0m\u001b[1;33m\u001b[0m\u001b[1;33m\u001b[0m\u001b[0m\n\u001b[0m",
      "\u001b[1;32mc:\\DevTools\\anaconda3\\envs\\pytorch_gpu\\lib\\site-packages\\pandas\\util\\_decorators.py\u001b[0m in \u001b[0;36mwrapper\u001b[1;34m(*args, **kwargs)\u001b[0m\n\u001b[0;32m    309\u001b[0m                     \u001b[0mstacklevel\u001b[0m\u001b[1;33m=\u001b[0m\u001b[0mstacklevel\u001b[0m\u001b[1;33m,\u001b[0m\u001b[1;33m\u001b[0m\u001b[1;33m\u001b[0m\u001b[0m\n\u001b[0;32m    310\u001b[0m                 )\n\u001b[1;32m--> 311\u001b[1;33m             \u001b[1;32mreturn\u001b[0m \u001b[0mfunc\u001b[0m\u001b[1;33m(\u001b[0m\u001b[1;33m*\u001b[0m\u001b[0margs\u001b[0m\u001b[1;33m,\u001b[0m \u001b[1;33m**\u001b[0m\u001b[0mkwargs\u001b[0m\u001b[1;33m)\u001b[0m\u001b[1;33m\u001b[0m\u001b[1;33m\u001b[0m\u001b[0m\n\u001b[0m\u001b[0;32m    312\u001b[0m \u001b[1;33m\u001b[0m\u001b[0m\n\u001b[0;32m    313\u001b[0m         \u001b[1;32mreturn\u001b[0m \u001b[0mwrapper\u001b[0m\u001b[1;33m\u001b[0m\u001b[1;33m\u001b[0m\u001b[0m\n",
      "\u001b[1;32mc:\\DevTools\\anaconda3\\envs\\pytorch_gpu\\lib\\site-packages\\pandas\\core\\frame.py\u001b[0m in \u001b[0;36mreset_index\u001b[1;34m(self, level, drop, inplace, col_level, col_fill)\u001b[0m\n\u001b[0;32m   5742\u001b[0m             \u001b[0mnew_obj\u001b[0m \u001b[1;33m=\u001b[0m \u001b[0mself\u001b[0m\u001b[1;33m\u001b[0m\u001b[1;33m\u001b[0m\u001b[0m\n\u001b[0;32m   5743\u001b[0m         \u001b[1;32melse\u001b[0m\u001b[1;33m:\u001b[0m\u001b[1;33m\u001b[0m\u001b[1;33m\u001b[0m\u001b[0m\n\u001b[1;32m-> 5744\u001b[1;33m             \u001b[0mnew_obj\u001b[0m \u001b[1;33m=\u001b[0m \u001b[0mself\u001b[0m\u001b[1;33m.\u001b[0m\u001b[0mcopy\u001b[0m\u001b[1;33m(\u001b[0m\u001b[1;33m)\u001b[0m\u001b[1;33m\u001b[0m\u001b[1;33m\u001b[0m\u001b[0m\n\u001b[0m\u001b[0;32m   5745\u001b[0m \u001b[1;33m\u001b[0m\u001b[0m\n\u001b[0;32m   5746\u001b[0m         \u001b[0mnew_index\u001b[0m \u001b[1;33m=\u001b[0m \u001b[0mibase\u001b[0m\u001b[1;33m.\u001b[0m\u001b[0mdefault_index\u001b[0m\u001b[1;33m(\u001b[0m\u001b[0mlen\u001b[0m\u001b[1;33m(\u001b[0m\u001b[0mnew_obj\u001b[0m\u001b[1;33m)\u001b[0m\u001b[1;33m)\u001b[0m\u001b[1;33m\u001b[0m\u001b[1;33m\u001b[0m\u001b[0m\n",
      "\u001b[1;32mc:\\DevTools\\anaconda3\\envs\\pytorch_gpu\\lib\\site-packages\\pandas\\core\\generic.py\u001b[0m in \u001b[0;36mcopy\u001b[1;34m(self, deep)\u001b[0m\n\u001b[0;32m   5931\u001b[0m         \u001b[0mdtype\u001b[0m\u001b[1;33m:\u001b[0m \u001b[0mobject\u001b[0m\u001b[1;33m\u001b[0m\u001b[1;33m\u001b[0m\u001b[0m\n\u001b[0;32m   5932\u001b[0m         \"\"\"\n\u001b[1;32m-> 5933\u001b[1;33m         \u001b[0mdata\u001b[0m \u001b[1;33m=\u001b[0m \u001b[0mself\u001b[0m\u001b[1;33m.\u001b[0m\u001b[0m_mgr\u001b[0m\u001b[1;33m.\u001b[0m\u001b[0mcopy\u001b[0m\u001b[1;33m(\u001b[0m\u001b[0mdeep\u001b[0m\u001b[1;33m=\u001b[0m\u001b[0mdeep\u001b[0m\u001b[1;33m)\u001b[0m\u001b[1;33m\u001b[0m\u001b[1;33m\u001b[0m\u001b[0m\n\u001b[0m\u001b[0;32m   5934\u001b[0m         \u001b[0mself\u001b[0m\u001b[1;33m.\u001b[0m\u001b[0m_clear_item_cache\u001b[0m\u001b[1;33m(\u001b[0m\u001b[1;33m)\u001b[0m\u001b[1;33m\u001b[0m\u001b[1;33m\u001b[0m\u001b[0m\n\u001b[0;32m   5935\u001b[0m         \u001b[1;32mreturn\u001b[0m \u001b[0mself\u001b[0m\u001b[1;33m.\u001b[0m\u001b[0m_constructor\u001b[0m\u001b[1;33m(\u001b[0m\u001b[0mdata\u001b[0m\u001b[1;33m)\u001b[0m\u001b[1;33m.\u001b[0m\u001b[0m__finalize__\u001b[0m\u001b[1;33m(\u001b[0m\u001b[0mself\u001b[0m\u001b[1;33m,\u001b[0m \u001b[0mmethod\u001b[0m\u001b[1;33m=\u001b[0m\u001b[1;34m\"copy\"\u001b[0m\u001b[1;33m)\u001b[0m\u001b[1;33m\u001b[0m\u001b[1;33m\u001b[0m\u001b[0m\n",
      "\u001b[1;32mc:\\DevTools\\anaconda3\\envs\\pytorch_gpu\\lib\\site-packages\\pandas\\core\\internals\\managers.py\u001b[0m in \u001b[0;36mcopy\u001b[1;34m(self, deep)\u001b[0m\n\u001b[0;32m    597\u001b[0m             \u001b[0mnew_axes\u001b[0m \u001b[1;33m=\u001b[0m \u001b[0mlist\u001b[0m\u001b[1;33m(\u001b[0m\u001b[0mself\u001b[0m\u001b[1;33m.\u001b[0m\u001b[0maxes\u001b[0m\u001b[1;33m)\u001b[0m\u001b[1;33m\u001b[0m\u001b[1;33m\u001b[0m\u001b[0m\n\u001b[0;32m    598\u001b[0m \u001b[1;33m\u001b[0m\u001b[0m\n\u001b[1;32m--> 599\u001b[1;33m         \u001b[0mres\u001b[0m \u001b[1;33m=\u001b[0m \u001b[0mself\u001b[0m\u001b[1;33m.\u001b[0m\u001b[0mapply\u001b[0m\u001b[1;33m(\u001b[0m\u001b[1;34m\"copy\"\u001b[0m\u001b[1;33m,\u001b[0m \u001b[0mdeep\u001b[0m\u001b[1;33m=\u001b[0m\u001b[0mdeep\u001b[0m\u001b[1;33m)\u001b[0m\u001b[1;33m\u001b[0m\u001b[1;33m\u001b[0m\u001b[0m\n\u001b[0m\u001b[0;32m    600\u001b[0m         \u001b[0mres\u001b[0m\u001b[1;33m.\u001b[0m\u001b[0maxes\u001b[0m \u001b[1;33m=\u001b[0m \u001b[0mnew_axes\u001b[0m\u001b[1;33m\u001b[0m\u001b[1;33m\u001b[0m\u001b[0m\n\u001b[0;32m    601\u001b[0m \u001b[1;33m\u001b[0m\u001b[0m\n",
      "\u001b[1;32mc:\\DevTools\\anaconda3\\envs\\pytorch_gpu\\lib\\site-packages\\pandas\\core\\internals\\managers.py\u001b[0m in \u001b[0;36mapply\u001b[1;34m(self, f, align_keys, ignore_failures, **kwargs)\u001b[0m\n\u001b[0;32m    325\u001b[0m                     \u001b[0mapplied\u001b[0m \u001b[1;33m=\u001b[0m \u001b[0mb\u001b[0m\u001b[1;33m.\u001b[0m\u001b[0mapply\u001b[0m\u001b[1;33m(\u001b[0m\u001b[0mf\u001b[0m\u001b[1;33m,\u001b[0m \u001b[1;33m**\u001b[0m\u001b[0mkwargs\u001b[0m\u001b[1;33m)\u001b[0m\u001b[1;33m\u001b[0m\u001b[1;33m\u001b[0m\u001b[0m\n\u001b[0;32m    326\u001b[0m                 \u001b[1;32melse\u001b[0m\u001b[1;33m:\u001b[0m\u001b[1;33m\u001b[0m\u001b[1;33m\u001b[0m\u001b[0m\n\u001b[1;32m--> 327\u001b[1;33m                     \u001b[0mapplied\u001b[0m \u001b[1;33m=\u001b[0m \u001b[0mgetattr\u001b[0m\u001b[1;33m(\u001b[0m\u001b[0mb\u001b[0m\u001b[1;33m,\u001b[0m \u001b[0mf\u001b[0m\u001b[1;33m)\u001b[0m\u001b[1;33m(\u001b[0m\u001b[1;33m**\u001b[0m\u001b[0mkwargs\u001b[0m\u001b[1;33m)\u001b[0m\u001b[1;33m\u001b[0m\u001b[1;33m\u001b[0m\u001b[0m\n\u001b[0m\u001b[0;32m    328\u001b[0m             \u001b[1;32mexcept\u001b[0m \u001b[1;33m(\u001b[0m\u001b[0mTypeError\u001b[0m\u001b[1;33m,\u001b[0m \u001b[0mNotImplementedError\u001b[0m\u001b[1;33m)\u001b[0m\u001b[1;33m:\u001b[0m\u001b[1;33m\u001b[0m\u001b[1;33m\u001b[0m\u001b[0m\n\u001b[0;32m    329\u001b[0m                 \u001b[1;32mif\u001b[0m \u001b[1;32mnot\u001b[0m \u001b[0mignore_failures\u001b[0m\u001b[1;33m:\u001b[0m\u001b[1;33m\u001b[0m\u001b[1;33m\u001b[0m\u001b[0m\n",
      "\u001b[1;32mc:\\DevTools\\anaconda3\\envs\\pytorch_gpu\\lib\\site-packages\\pandas\\core\\internals\\blocks.py\u001b[0m in \u001b[0;36mcopy\u001b[1;34m(self, deep)\u001b[0m\n\u001b[0;32m    648\u001b[0m         \u001b[0mvalues\u001b[0m \u001b[1;33m=\u001b[0m \u001b[0mself\u001b[0m\u001b[1;33m.\u001b[0m\u001b[0mvalues\u001b[0m\u001b[1;33m\u001b[0m\u001b[1;33m\u001b[0m\u001b[0m\n\u001b[0;32m    649\u001b[0m         \u001b[1;32mif\u001b[0m \u001b[0mdeep\u001b[0m\u001b[1;33m:\u001b[0m\u001b[1;33m\u001b[0m\u001b[1;33m\u001b[0m\u001b[0m\n\u001b[1;32m--> 650\u001b[1;33m             \u001b[0mvalues\u001b[0m \u001b[1;33m=\u001b[0m \u001b[0mvalues\u001b[0m\u001b[1;33m.\u001b[0m\u001b[0mcopy\u001b[0m\u001b[1;33m(\u001b[0m\u001b[1;33m)\u001b[0m\u001b[1;33m\u001b[0m\u001b[1;33m\u001b[0m\u001b[0m\n\u001b[0m\u001b[0;32m    651\u001b[0m         \u001b[1;32mreturn\u001b[0m \u001b[0mself\u001b[0m\u001b[1;33m.\u001b[0m\u001b[0mmake_block_same_class\u001b[0m\u001b[1;33m(\u001b[0m\u001b[0mvalues\u001b[0m\u001b[1;33m)\u001b[0m\u001b[1;33m\u001b[0m\u001b[1;33m\u001b[0m\u001b[0m\n\u001b[0;32m    652\u001b[0m \u001b[1;33m\u001b[0m\u001b[0m\n",
      "\u001b[1;31mMemoryError\u001b[0m: Unable to allocate 1.71 GiB for an array with shape (1, 229042367) and data type float64"
     ]
    }
   ],
   "source": [
    "behavior_count = None\n",
    "user_behavior.reset_index().to_feather('feature/user_behavior_halfdata.feather')"
   ]
  },
  {
   "cell_type": "code",
   "execution_count": null,
   "metadata": {},
   "outputs": [],
   "source": [
    "# 统计出现的所有用户ID\n",
    "user_ids = set()\n",
    "\n",
    "for reader in readers:\n",
    "    for chunk in tqdm(reader):\n",
    "        user_ids.update(chunk['user_id'].values)\n",
    "        \n",
    "print(len(user_ids))\n",
    "\n",
    "# 创建一个DataFrame对象，用以存储用户特征(用户ID、用户浏览次数、用户收藏次数、用户购物车次数、用户购买次数)\n",
    "user_feature = pd.DataFrame(columns=['user_id', 'user_view_count', 'user_collect_count', 'user_cart_count', 'user_buy_count'])\n",
    "user_feature['user_id'] = list(user_ids)\n",
    "user_feature.fillna(0, inplace=True)\n",
    "user_feature.set_index('user_id', inplace=True)\n",
    "# 创建一个DataFrame对象，用以存储商品特征(商品ID、商品被浏览次数、商品被收藏次数、商品被购物车次数、商品被购买次数)\n",
    "item_feature = pd.DataFrame(columns=['item_id', 'item_view_count', 'item_collect_count', 'item_cart_count', 'item_buy_count'])\n",
    "item_feature['item_id'] = item_data['item_id']\n",
    "item_feature.fillna(0, inplace=True)\n",
    "item_feature.set_index('item_id', inplace=True)\n",
    "\n",
    "# 统计用户和商品特征\n",
    "for reader in readers:\n",
    "    for chunk in tqdm(reader):\n",
    "        # 统计用户特征\n",
    "        user_count = chunk.groupby('user_id')['behavior_type'].value_counts().unstack(fill_value=0)\n",
    "        user_count.rename(columns={1: 'user_view_count', 2: 'user_collect_count', 3: 'user_cart_count', 4: 'user_buy_count'}, inplace=True)\n",
    "        user_feature = user_feature.add(user_count, fill_value=0)\n",
    "        # 统计商品特征\n",
    "        item_count = chunk.groupby('item_id')['behavior_type'].value_counts().unstack(fill_value=0)\n",
    "        item_count.rename(columns={1: 'item_view_count', 2: 'item_collect_count', 3: 'item_cart_count', 4: 'item_buy_count'}, inplace=True)\n",
    "        item_feature = item_feature.add(item_count, fill_value=0)\n",
    "\n",
    "user_feature.reset_index()\n",
    "item_feature.reset_index()\n",
    "        "
   ]
  },
  {
   "cell_type": "code",
   "execution_count": null,
   "metadata": {},
   "outputs": [],
   "source": [
    "import feather\n",
    "# 读取用户特征和商品特征\n",
    "user_feature = pd.read_feather('user_feature.feather')\n",
    "item_feature = pd.read_feather('item_feature.feather')"
   ]
  },
  {
   "cell_type": "code",
   "execution_count": 8,
   "metadata": {},
   "outputs": [],
   "source": [
    "# 改数据类型为整数\n",
    "user_feature = user_feature.astype(int)\n",
    "item_feature = item_feature.astype(int)"
   ]
  },
  {
   "cell_type": "code",
   "execution_count": null,
   "metadata": {},
   "outputs": [],
   "source": [
    "print(user_feature.sort_values('user_buy_count', ascending=False).head())\n",
    "print(item_feature.sort_values('item_buy_count', ascending=False).head())"
   ]
  },
  {
   "cell_type": "code",
   "execution_count": null,
   "metadata": {},
   "outputs": [],
   "source": [
    "# 去除浏览次数为0的用户和商品\n",
    "user_feature = user_feature[user_feature['user_view_count'] > 0]\n",
    "item_feature = item_feature[item_feature['item_view_count'] > 0] \n",
    "# 输出去除后的数据量\n",
    "print(\"用户数：\", len(user_feature))\n",
    "print(\"商品数：\", len(item_feature))\n",
    "\n",
    "# 计算用户浏览购买比率\n",
    "user_feature['user_buy_view_rate'] = user_feature['user_buy_count'] / user_feature['user_view_count']\n",
    "# 计算商品被浏览购买比率\n",
    "item_feature['item_buy_view_rate'] = item_feature['item_buy_count'] / item_feature['item_view_count']"
   ]
  },
  {
   "cell_type": "code",
   "execution_count": null,
   "metadata": {},
   "outputs": [],
   "source": [
    "# 展示用户浏览量购买率最高的5个用户\n",
    "print(user_feature.sort_values('user_buy_view_rate', ascending=False).head())\n",
    "# 展示商品浏览量购买率最高的5个商品\n",
    "print(item_feature.sort_values('item_buy_view_rate', ascending=False).head())"
   ]
  },
  {
   "cell_type": "code",
   "execution_count": 12,
   "metadata": {},
   "outputs": [],
   "source": [
    "import feather\n",
    "user_feature.reset_index().to_feather('user_feature.feather')\n",
    "item_feature.reset_index().to_feather('item_feature.feather')"
   ]
  },
  {
   "cell_type": "code",
   "execution_count": null,
   "metadata": {},
   "outputs": [],
   "source": [
    "# 统计购买数大于10的用户数\n",
    "user_buy_count_10 = user_feature[user_feature['user_buy_count'] > 10].shape[0]\n",
    "print(\"购买数大于10的用户数：\", user_buy_count_10)\n",
    "# 统计购买数大于100的用户数\n",
    "user_buy_count_100 = user_feature[user_feature['user_buy_count'] > 100].shape[0]\n",
    "print(\"购买数大于100的用户数：\", user_buy_count_100)\n",
    "# 统计购买数大于10的商品数\n",
    "item_buy_count_10 = item_feature[item_feature['item_buy_count'] > 10].shape[0]\n",
    "print(\"购买数大于10的商品数：\", item_buy_count_10)\n",
    "# 统计购买数大于100的商品数\n",
    "item_buy_count_100 = item_feature[item_feature['item_buy_count'] > 100].shape[0]\n",
    "print(\"购买数大于100的商品数：\", item_buy_count_100)"
   ]
  },
  {
   "cell_type": "code",
   "execution_count": null,
   "metadata": {},
   "outputs": [],
   "source": [
    "# 选取购买数大于100的用户\n",
    "user_feature = user_feature[user_feature['user_buy_count'] > 100]\n",
    "# 选取购买数大于200的商品\n",
    "item_feature = item_feature[item_feature['item_buy_count'] > 200]\n",
    "# 采用用户和商品一一对应的方式，构建用户-商品交叉集\n",
    "cross_feature = user_feature.merge(item_feature, how='cross')\n",
    "\n",
    "print(len(cross_feature))"
   ]
  },
  {
   "cell_type": "code",
   "execution_count": null,
   "metadata": {},
   "outputs": [],
   "source": [
    "print(len(user_feature[user_feature['user_buy_count'] > 100]))\n",
    "print(len(item_feature[item_feature['item_buy_count'] > 300]))"
   ]
  },
  {
   "cell_type": "code",
   "execution_count": 5,
   "metadata": {},
   "outputs": [],
   "source": [
    "# 创建预测日为2014-12-17至2014-12-18的数据表\n",
    "date_range = pd.date_range('2014-12-17', '2014-12-18', freq='D')\n",
    "pred_date_df = pd.DataFrame(date_range, columns=['pred_date'])\n",
    "# 创建预测日和交叉集的交叉集\n",
    "cross_feature = cross_feature.merge(pred_date_df, how='cross')\n",
    "cross_feature['label'] = 0"
   ]
  },
  {
   "cell_type": "code",
   "execution_count": null,
   "metadata": {},
   "outputs": [],
   "source": [
    "# 改变列的顺序，将user_id,item_id,pred_date列放在最前面\n",
    "cross_feature = cross_feature[['user_id', 'item_id', 'pred_date'] + [col for col in cross_feature.columns if col not in ['user_id', 'item_id', 'pred_date']]]\n",
    "\n",
    "print(cross_feature.head())"
   ]
  },
  {
   "cell_type": "code",
   "execution_count": null,
   "metadata": {},
   "outputs": [],
   "source": [
    "cross_feature.drop(['index_x', 'index_y'], axis=1, inplace=True)\n",
    "print(cross_feature.head())"
   ]
  },
  {
   "cell_type": "code",
   "execution_count": null,
   "metadata": {},
   "outputs": [],
   "source": [
    "cross_feature = None\n",
    "cross_feature = feather.read_dataframe('cross_feature.feather')\n",
    "print(cross_feature.head())"
   ]
  },
  {
   "cell_type": "code",
   "execution_count": 23,
   "metadata": {},
   "outputs": [],
   "source": [
    "cross_feature.to_feather('cross_feature.feather')"
   ]
  },
  {
   "cell_type": "code",
   "execution_count": null,
   "metadata": {},
   "outputs": [],
   "source": [
    "# 取cross_feature的user_id,item_id,pred_date列\n",
    "base_feature = cross_feature[['user_id', 'item_id', 'pred_date']]\n",
    "res_feature = base_feature.copy()\n",
    "res_feature.set_index(['user_id', 'item_id', 'pred_date'], inplace=True)\n",
    "print(res_feature)"
   ]
  },
  {
   "cell_type": "code",
   "execution_count": 5,
   "metadata": {},
   "outputs": [],
   "source": [
    "# 时间范围和对应的列名\n",
    "time_ranges = [\n",
    "    (1, 'one_day'),\n",
    "    (3, 'three_day'),\n",
    "    (7, 'seven_day'),\n",
    "    (15, 'fifteen_day'),\n",
    "    (30, 'thirty_day')\n",
    "]\n",
    "\n",
    "date_range = pd.date_range('2014-12-17', '2014-12-18', freq='D')\n",
    "\n",
    "# 初始化res_feature\n",
    "for day in date_range:\n",
    "    for days, prefix in time_ranges:\n",
    "        for behavior_name in ['view', 'collect', 'cart', 'buy']:\n",
    "            res_feature[f'{prefix}_{behavior_name}'] = 0\n",
    "res_feature['label'] = 0"
   ]
  },
  {
   "cell_type": "code",
   "execution_count": null,
   "metadata": {},
   "outputs": [],
   "source": [
    "for reader in readers:\n",
    "    for chunk in reader:\n",
    "        for day in tqdm(date_range):\n",
    "            # 选取pred_date = day的数据\n",
    "            result_df = base_feature.copy()\n",
    "            result_df = result_df[result_df['pred_date'] == day]\n",
    "            for days, prefix in time_ranges:\n",
    "                # 计算不同时间范围内的数据\n",
    "                chunk['time'] = pd.to_datetime(chunk['time'])\n",
    "                time_range_df = chunk[(day > chunk['time']) & (day - chunk['time']).dt.days <= days]\n",
    "                for behavior, behavior_name in zip([1, 2, 3, 4], ['view', 'collect', 'cart', 'buy']):\n",
    "                    behavior_count = time_range_df[time_range_df['behavior_type'] == behavior].groupby(['user_id', 'item_id']).size().reset_index(name=f'{prefix}_{behavior_name}')\n",
    "                    result_df = result_df.merge(behavior_count, on=['user_id', 'item_id'], how='left')\n",
    "            # 统计当日是否购买，计入label列\n",
    "            result_df['label'] = chunk[(chunk['behavior_type'] == 4) & (chunk['time'].dt.date == day)].groupby(['user_id', 'item_id']).size().reset_index(name='label')['label']\n",
    "            result_df.fillna(0, inplace=True)\n",
    "            result_df.set_index(['user_id', 'item_id', 'pred_date'], inplace=True)\n",
    "        res_feature = res_feature.add(result_df, fill_value=0)\n",
    "res_feature['label'] = (res_feature['label'] > 0).astype(int)          \n",
    "final_feature = cross_feature.merge(res_feature, on=['user_id', 'item_id', 'pred_date'], how='left')\n",
    "    "
   ]
  },
  {
   "cell_type": "code",
   "execution_count": 10,
   "metadata": {},
   "outputs": [],
   "source": [
    "final_feature = cross_feature.merge(res_feature, on=['user_id', 'item_id', 'pred_date'], how='left')"
   ]
  },
  {
   "cell_type": "code",
   "execution_count": 14,
   "metadata": {},
   "outputs": [],
   "source": [
    "for day in date_range:\n",
    "    for days, prefix in time_ranges:\n",
    "        for behavior_name in ['view', 'collect', 'cart', 'buy']:\n",
    "            # 设定数据类型为整数\n",
    "            final_feature[f'{prefix}_{behavior_name}'] = final_feature[f'{prefix}_{behavior_name}'].astype(int)"
   ]
  },
  {
   "cell_type": "code",
   "execution_count": 16,
   "metadata": {},
   "outputs": [],
   "source": [
    "final_feature.to_feather('final_feature.feather')"
   ]
  },
  {
   "cell_type": "code",
   "execution_count": null,
   "metadata": {},
   "outputs": [],
   "source": [
    "# print(result_df.sort_values('one_day_view', ascending=False).head())\n",
    "# print(res_feature.sort_values('one_day_buy', ascending=False).head())\n",
    "# 正负样本比例\n",
    "label_num = final_feature['label'].value_counts()\n",
    "print(\"正负样本比例：1:{:.0f}\".format(label_num[0] / label_num[1]))"
   ]
  },
  {
   "cell_type": "markdown",
   "metadata": {},
   "source": [
    "以下用于统计预测数据特征，用于结果输出"
   ]
  },
  {
   "cell_type": "code",
   "execution_count": 4,
   "metadata": {},
   "outputs": [],
   "source": [
    "user_feature = pd.read_feather('user_feature.feather')\n",
    "item_feature = pd.read_feather('item_feature.feather')\n",
    "# 选取购买数大于100的用户\n",
    "user_feature = user_feature[user_feature['user_buy_count'] > 100]\n",
    "# 选取购买数大于100的商品\n",
    "item_feature = item_feature[item_feature['item_buy_count'] > 100]\n",
    "# 采用用户和商品一一对应的方式，构建用户-商品交叉集\n",
    "cross_feature = user_feature.merge(item_feature, how='cross')\n",
    "cross_feature.drop(['index_x', 'index_y'], axis=1, inplace=True)"
   ]
  },
  {
   "cell_type": "code",
   "execution_count": null,
   "metadata": {},
   "outputs": [],
   "source": [
    "cross_feature = feather.read_dataframe('cross_feature.feather')\n",
    "\n",
    "cross_feature = cross_feature[cross_feature['pred_date'] == '2014-12-18']\n",
    "cross_feature.drop('pred_date', axis=1, inplace=True)\n"
   ]
  },
  {
   "cell_type": "code",
   "execution_count": null,
   "metadata": {},
   "outputs": [],
   "source": [
    "base_feature = cross_feature[['user_id', 'item_id']]\n",
    "res_feature = base_feature.copy()\n",
    "res_feature.set_index(['user_id', 'item_id'], inplace=True)\n",
    "print(res_feature)"
   ]
  },
  {
   "cell_type": "code",
   "execution_count": 6,
   "metadata": {},
   "outputs": [],
   "source": [
    "# 时间范围和对应的列名\n",
    "time_ranges = [\n",
    "    (1, 'one_day'),\n",
    "    (3, 'three_day'),\n",
    "    (7, 'seven_day'),\n",
    "    (15, 'fifteen_day'),\n",
    "    (30, 'thirty_day')\n",
    "]\n",
    "\n",
    "# 初始化res_feature\n",
    "for days, prefix in time_ranges:\n",
    "    for behavior_name in ['view', 'collect', 'cart', 'buy']:\n",
    "        res_feature[f'{prefix}_{behavior_name}'] = 0"
   ]
  },
  {
   "cell_type": "code",
   "execution_count": null,
   "metadata": {},
   "outputs": [],
   "source": [
    "day = pd.to_datetime('2014-12-19')\n",
    "for reader in readers:\n",
    "    for chunk in tqdm(reader):\n",
    "        # 选取pred_date = day的数据\n",
    "        result_df = base_feature.copy()\n",
    "        for days, prefix in time_ranges:\n",
    "            # 计算不同时间范围内的数据\n",
    "            chunk['time'] = pd.to_datetime(chunk['time'])\n",
    "            time_range_df = chunk[(day - chunk['time']).dt.days <= days]\n",
    "            for behavior, behavior_name in zip([1, 2, 3, 4], ['view', 'collect', 'cart', 'buy']):\n",
    "                behavior_count = time_range_df[time_range_df['behavior_type'] == behavior].groupby(['user_id', 'item_id']).size().reset_index(name=f'{prefix}_{behavior_name}')\n",
    "                result_df = result_df.merge(behavior_count, on=['user_id', 'item_id'], how='left')\n",
    "        \n",
    "        result_df.fillna(0, inplace=True)\n",
    "        result_df.set_index(['user_id', 'item_id'], inplace=True)\n",
    "        res_feature = res_feature.add(result_df, fill_value=0)         \n",
    "pred_feature = cross_feature.merge(res_feature, on=['user_id', 'item_id'], how='left')"
   ]
  },
  {
   "cell_type": "code",
   "execution_count": null,
   "metadata": {},
   "outputs": [],
   "source": [
    "pred_feature"
   ]
  },
  {
   "cell_type": "code",
   "execution_count": 10,
   "metadata": {},
   "outputs": [],
   "source": [
    "pred_feature.to_feather('pred_feature_100_100.feather')"
   ]
  }
 ],
 "metadata": {
  "kernelspec": {
   "display_name": "pytorch_gpu",
   "language": "python",
   "name": "python3"
  },
  "language_info": {
   "codemirror_mode": {
    "name": "ipython",
    "version": 3
   },
   "file_extension": ".py",
   "mimetype": "text/x-python",
   "name": "python",
   "nbconvert_exporter": "python",
   "pygments_lexer": "ipython3",
   "version": "3.7.16"
  }
 },
 "nbformat": 4,
 "nbformat_minor": 2
}
