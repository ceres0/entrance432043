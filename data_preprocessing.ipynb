{
 "cells": [
  {
   "cell_type": "code",
   "execution_count": 1,
   "metadata": {},
   "outputs": [],
   "source": [
    "import pandas as pd\n",
    "from tqdm import tqdm\n",
    "import feather"
   ]
  },
  {
   "cell_type": "code",
   "execution_count": null,
   "metadata": {},
   "outputs": [],
   "source": [
    "item_data = pd.read_csv('dataset\\\\tianchi_fresh_comp_train_item_online.txt', sep='\\t', header=None, names=['item_id', 'item_geohash', 'item_category'])\n",
    "print(item_data.head())  # 查看前几行数据\n",
    "print(item_data.info())  # 查看数据的基本信息，如列名、非空值数量、数据类型等"
   ]
  },
  {
   "cell_type": "code",
   "execution_count": null,
   "metadata": {},
   "outputs": [],
   "source": [
    "# 统计item_geohash缺失值的数量\n",
    "item_geohash_null = item_data['item_geohash'].isnull().sum()\n",
    "print(\"item_geohash缺失：{:} {:.1f}%\".format(item_geohash_null, item_geohash_null / len(item_data) * 100))"
   ]
  },
  {
   "cell_type": "code",
   "execution_count": 3,
   "metadata": {},
   "outputs": [],
   "source": [
    "chunksize = 20000000\n",
    "\n",
    "readers = [pd.read_csv('dataset\\\\tianchi_fresh_comp_train_user_online_partA.txt', sep='\\t', header=None, names=['user_id', 'item_id', 'behavior_type', 'user_geohash', 'item_category', 'time'], chunksize=chunksize), pd.read_csv('dataset\\\\tianchi_fresh_comp_train_user_online_partB.txt', sep='\\t', header=None, names=['user_id', 'item_id', 'behavior_type', 'user_geohash', 'item_category', 'time'], chunksize=chunksize)]\n"
   ]
  },
  {
   "cell_type": "markdown",
   "metadata": {},
   "source": [
    "以下内容用以前期数据统计"
   ]
  },
  {
   "cell_type": "code",
   "execution_count": null,
   "metadata": {},
   "outputs": [],
   "source": [
    "behavior_num = 0\n",
    "behavior_geohash_null = 0\n",
    "# 统计购买行为，即behavior_type=4的数量\n",
    "behavior_buy_num = 0\n",
    "\n",
    "for reader in readers:\n",
    "    for chunk in tqdm(reader):\n",
    "        behavior_num += len(chunk)\n",
    "        behavior_geohash_null += chunk['user_geohash'].isnull().sum()\n",
    "        behavior_buy_num += len(chunk[chunk['behavior_type'] == 4])\n",
    "        # user_ids.update(chunk['user_id'].values)\n",
    "    \n",
    "print(\"用户行为总数：\", behavior_num)\n",
    "print(\"user_geohash缺失：{:} {:.1f}%\".format(behavior_geohash_null, behavior_geohash_null / behavior_num * 100))\n"
   ]
  },
  {
   "cell_type": "markdown",
   "metadata": {},
   "source": [
    "以下内容用以从行为数据中提取特征"
   ]
  },
  {
   "cell_type": "code",
   "execution_count": null,
   "metadata": {},
   "outputs": [],
   "source": [
    "import pandas as pd\n",
    "\n",
    "# 假设原有的数据\n",
    "old_data = pd.DataFrame({\n",
    "    'index_col': ['a', 'b', 'c'],\n",
    "    'value_col1': [1, 2, 3],\n",
    "    'value_col2': [4, 5, 6]\n",
    "}).set_index('index_col')\n",
    "\n",
    "# 假设新的数据\n",
    "new_data = pd.DataFrame({\n",
    "    'index_col': ['b', 'c', 'd'],\n",
    "    'value_col1': [7, 8, 9],\n",
    "    'value_col2': [10, 11, 12]\n",
    "}).set_index('index_col')\n",
    "\n",
    "\n",
    "# 合并数据\n",
    "result_df = pd.concat([old_data, new_data], axis=0)\n",
    "result_df = result_df.groupby(result_df.index).sum()\n",
    "\n",
    "\n",
    "print(result_df)"
   ]
  },
  {
   "cell_type": "code",
   "execution_count": null,
   "metadata": {},
   "outputs": [],
   "source": [
    "# 创建一个DataFrame对象，用于存储用户行为特征（用户ID，商品ID，浏览次数、收藏次数、购物车次数、购买次数）\n",
    "user_behavior = pd.DataFrame(columns=['user_id', 'item_id', 'view_count', 'collect_count', 'add_count', 'buy_count'])\n",
    "\n",
    "for reader in readers:\n",
    "    for chunk in tqdm(reader):\n",
    "        # 统计每个用户对每个商品的浏览、收藏、加购物车、购买次数\n",
    "        behavior_count = chunk.groupby(['user_id','item_id'])['behavior_type'].value_counts().unstack(fill_value=0)\n",
    "        behavior_count.rename(columns={1: 'view_count', 2: 'collect_count', 3: 'cart_count', 4: 'buy_count'}, inplace=True)\n",
    "        user_behavior = pd.concat([user_behavior, behavior_count], axis=0)\n",
    "        user_behavior = user_behavior.groupby(['user_id', 'item_id']).sum()\n"
   ]
  },
  {
   "cell_type": "code",
   "execution_count": null,
   "metadata": {},
   "outputs": [],
   "source": [
    "behavior_count = None\n",
    "user_behavior.reset_index().to_feather('feature/user_behavior_halfdata.feather')"
   ]
  },
  {
   "cell_type": "code",
   "execution_count": null,
   "metadata": {},
   "outputs": [],
   "source": [
    "# 统计出现的所有用户ID\n",
    "user_ids = set()\n",
    "\n",
    "for reader in readers:\n",
    "    for chunk in tqdm(reader):\n",
    "        user_ids.update(chunk['user_id'].values)\n",
    "        \n",
    "print(len(user_ids))\n",
    "\n",
    "# 创建一个DataFrame对象，用以存储用户特征(用户ID、用户浏览次数、用户收藏次数、用户购物车次数、用户购买次数)\n",
    "user_feature = pd.DataFrame(columns=['user_id', 'user_view_count', 'user_collect_count', 'user_cart_count', 'user_buy_count'])\n",
    "user_feature['user_id'] = list(user_ids)\n",
    "user_feature.fillna(0, inplace=True)\n",
    "user_feature.set_index('user_id', inplace=True)\n",
    "# 创建一个DataFrame对象，用以存储商品特征(商品ID、商品被浏览次数、商品被收藏次数、商品被购物车次数、商品被购买次数)\n",
    "item_feature = pd.DataFrame(columns=['item_id', 'item_view_count', 'item_collect_count', 'item_cart_count', 'item_buy_count'])\n",
    "item_feature['item_id'] = item_data['item_id']\n",
    "item_feature.fillna(0, inplace=True)\n",
    "item_feature.set_index('item_id', inplace=True)\n",
    "\n",
    "# 统计用户和商品特征\n",
    "for reader in readers:\n",
    "    for chunk in tqdm(reader):\n",
    "        # 统计用户特征\n",
    "        user_count = chunk.groupby('user_id')['behavior_type'].value_counts().unstack(fill_value=0)\n",
    "        user_count.rename(columns={1: 'user_view_count', 2: 'user_collect_count', 3: 'user_cart_count', 4: 'user_buy_count'}, inplace=True)\n",
    "        user_feature = user_feature.add(user_count, fill_value=0)\n",
    "        # 统计商品特征\n",
    "        item_count = chunk.groupby('item_id')['behavior_type'].value_counts().unstack(fill_value=0)\n",
    "        item_count.rename(columns={1: 'item_view_count', 2: 'item_collect_count', 3: 'item_cart_count', 4: 'item_buy_count'}, inplace=True)\n",
    "        item_feature = item_feature.add(item_count, fill_value=0)\n",
    "\n",
    "user_feature.reset_index()\n",
    "item_feature.reset_index()\n",
    "        "
   ]
  },
  {
   "cell_type": "code",
   "execution_count": null,
   "metadata": {},
   "outputs": [],
   "source": [
    "import feather\n",
    "# 读取用户特征和商品特征\n",
    "user_feature = pd.read_feather('user_feature.feather')\n",
    "item_feature = pd.read_feather('item_feature.feather')"
   ]
  },
  {
   "cell_type": "code",
   "execution_count": 8,
   "metadata": {},
   "outputs": [],
   "source": [
    "# 改数据类型为整数\n",
    "user_feature = user_feature.astype(int)\n",
    "item_feature = item_feature.astype(int)"
   ]
  },
  {
   "cell_type": "code",
   "execution_count": null,
   "metadata": {},
   "outputs": [],
   "source": [
    "print(user_feature.sort_values('user_buy_count', ascending=False).head())\n",
    "print(item_feature.sort_values('item_buy_count', ascending=False).head())"
   ]
  },
  {
   "cell_type": "code",
   "execution_count": null,
   "metadata": {},
   "outputs": [],
   "source": [
    "# 去除浏览次数为0的用户和商品\n",
    "user_feature = user_feature[user_feature['user_view_count'] > 0]\n",
    "item_feature = item_feature[item_feature['item_view_count'] > 0] \n",
    "# 输出去除后的数据量\n",
    "print(\"用户数：\", len(user_feature))\n",
    "print(\"商品数：\", len(item_feature))\n",
    "\n",
    "# 计算用户浏览购买比率\n",
    "user_feature['user_buy_view_rate'] = user_feature['user_buy_count'] / user_feature['user_view_count']\n",
    "# 计算商品被浏览购买比率\n",
    "item_feature['item_buy_view_rate'] = item_feature['item_buy_count'] / item_feature['item_view_count']"
   ]
  },
  {
   "cell_type": "code",
   "execution_count": null,
   "metadata": {},
   "outputs": [],
   "source": [
    "# 展示用户浏览量购买率最高的5个用户\n",
    "print(user_feature.sort_values('user_buy_view_rate', ascending=False).head())\n",
    "# 展示商品浏览量购买率最高的5个商品\n",
    "print(item_feature.sort_values('item_buy_view_rate', ascending=False).head())"
   ]
  },
  {
   "cell_type": "code",
   "execution_count": 12,
   "metadata": {},
   "outputs": [],
   "source": [
    "import feather\n",
    "user_feature.reset_index().to_feather('user_feature.feather')\n",
    "item_feature.reset_index().to_feather('item_feature.feather')"
   ]
  },
  {
   "cell_type": "code",
   "execution_count": null,
   "metadata": {},
   "outputs": [],
   "source": [
    "# 统计购买数大于10的用户数\n",
    "user_buy_count_10 = user_feature[user_feature['user_buy_count'] > 10].shape[0]\n",
    "print(\"购买数大于10的用户数：\", user_buy_count_10)\n",
    "# 统计购买数大于100的用户数\n",
    "user_buy_count_100 = user_feature[user_feature['user_buy_count'] > 100].shape[0]\n",
    "print(\"购买数大于100的用户数：\", user_buy_count_100)\n",
    "# 统计购买数大于10的商品数\n",
    "item_buy_count_10 = item_feature[item_feature['item_buy_count'] > 10].shape[0]\n",
    "print(\"购买数大于10的商品数：\", item_buy_count_10)\n",
    "# 统计购买数大于100的商品数\n",
    "item_buy_count_100 = item_feature[item_feature['item_buy_count'] > 100].shape[0]\n",
    "print(\"购买数大于100的商品数：\", item_buy_count_100)"
   ]
  },
  {
   "cell_type": "code",
   "execution_count": null,
   "metadata": {},
   "outputs": [],
   "source": [
    "# 选取购买数大于100的用户\n",
    "user_feature = user_feature[user_feature['user_buy_count'] > 100]\n",
    "# 选取购买数大于200的商品\n",
    "item_feature = item_feature[item_feature['item_buy_count'] > 200]\n",
    "# 采用用户和商品一一对应的方式，构建用户-商品交叉集\n",
    "cross_feature = user_feature.merge(item_feature, how='cross')\n",
    "\n",
    "print(len(cross_feature))"
   ]
  },
  {
   "cell_type": "code",
   "execution_count": null,
   "metadata": {},
   "outputs": [],
   "source": [
    "print(len(user_feature[user_feature['user_buy_count'] > 100]))\n",
    "print(len(item_feature[item_feature['item_buy_count'] > 300]))"
   ]
  },
  {
   "cell_type": "code",
   "execution_count": 5,
   "metadata": {},
   "outputs": [],
   "source": [
    "# 创建预测日为2014-12-17至2014-12-18的数据表\n",
    "date_range = pd.date_range('2014-12-17', '2014-12-18', freq='D')\n",
    "pred_date_df = pd.DataFrame(date_range, columns=['pred_date'])\n",
    "# 创建预测日和交叉集的交叉集\n",
    "cross_feature = cross_feature.merge(pred_date_df, how='cross')\n",
    "cross_feature['label'] = 0"
   ]
  },
  {
   "cell_type": "code",
   "execution_count": null,
   "metadata": {},
   "outputs": [],
   "source": [
    "# 改变列的顺序，将user_id,item_id,pred_date列放在最前面\n",
    "cross_feature = cross_feature[['user_id', 'item_id', 'pred_date'] + [col for col in cross_feature.columns if col not in ['user_id', 'item_id', 'pred_date']]]\n",
    "\n",
    "print(cross_feature.head())"
   ]
  },
  {
   "cell_type": "code",
   "execution_count": null,
   "metadata": {},
   "outputs": [],
   "source": [
    "cross_feature.drop(['index_x', 'index_y'], axis=1, inplace=True)\n",
    "print(cross_feature.head())"
   ]
  },
  {
   "cell_type": "code",
   "execution_count": null,
   "metadata": {},
   "outputs": [],
   "source": [
    "cross_feature = None\n",
    "cross_feature = feather.read_dataframe('cross_feature.feather')\n",
    "print(cross_feature.head())"
   ]
  },
  {
   "cell_type": "code",
   "execution_count": 23,
   "metadata": {},
   "outputs": [],
   "source": [
    "cross_feature.to_feather('cross_feature.feather')"
   ]
  },
  {
   "cell_type": "code",
   "execution_count": null,
   "metadata": {},
   "outputs": [],
   "source": [
    "# 取cross_feature的user_id,item_id,pred_date列\n",
    "base_feature = cross_feature[['user_id', 'item_id', 'pred_date']]\n",
    "res_feature = base_feature.copy()\n",
    "res_feature.set_index(['user_id', 'item_id', 'pred_date'], inplace=True)\n",
    "print(res_feature)"
   ]
  },
  {
   "cell_type": "code",
   "execution_count": 5,
   "metadata": {},
   "outputs": [],
   "source": [
    "# 时间范围和对应的列名\n",
    "time_ranges = [\n",
    "    (1, 'one_day'),\n",
    "    (3, 'three_day'),\n",
    "    (7, 'seven_day'),\n",
    "    (15, 'fifteen_day'),\n",
    "    (30, 'thirty_day')\n",
    "]\n",
    "\n",
    "date_range = pd.date_range('2014-12-17', '2014-12-18', freq='D')\n",
    "\n",
    "# 初始化res_feature\n",
    "for day in date_range:\n",
    "    for days, prefix in time_ranges:\n",
    "        for behavior_name in ['view', 'collect', 'cart', 'buy']:\n",
    "            res_feature[f'{prefix}_{behavior_name}'] = 0\n",
    "res_feature['label'] = 0"
   ]
  },
  {
   "cell_type": "code",
   "execution_count": null,
   "metadata": {},
   "outputs": [],
   "source": [
    "for reader in readers:\n",
    "    for chunk in reader:\n",
    "        for day in tqdm(date_range):\n",
    "            # 选取pred_date = day的数据\n",
    "            result_df = base_feature.copy()\n",
    "            result_df = result_df[result_df['pred_date'] == day]\n",
    "            for days, prefix in time_ranges:\n",
    "                # 计算不同时间范围内的数据\n",
    "                chunk['time'] = pd.to_datetime(chunk['time'])\n",
    "                time_range_df = chunk[(day > chunk['time']) & ((day - chunk['time']).dt.days <= days)]\n",
    "                for behavior, behavior_name in zip([1, 2, 3, 4], ['view', 'collect', 'cart', 'buy']):\n",
    "                    behavior_count = time_range_df[time_range_df['behavior_type'] == behavior].groupby(['user_id', 'item_id']).size().reset_index(name=f'{prefix}_{behavior_name}')\n",
    "                    result_df = result_df.merge(behavior_count, on=['user_id', 'item_id'], how='left')\n",
    "            # 统计当日是否购买，计入label列\n",
    "            result_df['label'] = chunk[(chunk['behavior_type'] == 4) & (chunk['time'].dt.date == day)].groupby(['user_id', 'item_id']).size().reset_index(name='label')['label']\n",
    "            result_df.fillna(0, inplace=True)\n",
    "            result_df.set_index(['user_id', 'item_id', 'pred_date'], inplace=True)\n",
    "        res_feature = res_feature.add(result_df, fill_value=0)\n",
    "res_feature['label'] = (res_feature['label'] > 0).astype(int)          \n",
    "final_feature = cross_feature.merge(res_feature, on=['user_id', 'item_id', 'pred_date'], how='left')\n",
    "    "
   ]
  },
  {
   "cell_type": "code",
   "execution_count": 10,
   "metadata": {},
   "outputs": [],
   "source": [
    "final_feature = cross_feature.merge(res_feature, on=['user_id', 'item_id', 'pred_date'], how='left')"
   ]
  },
  {
   "cell_type": "code",
   "execution_count": 14,
   "metadata": {},
   "outputs": [],
   "source": [
    "for day in date_range:\n",
    "    for days, prefix in time_ranges:\n",
    "        for behavior_name in ['view', 'collect', 'cart', 'buy']:\n",
    "            # 设定数据类型为整数\n",
    "            final_feature[f'{prefix}_{behavior_name}'] = final_feature[f'{prefix}_{behavior_name}'].astype(int)"
   ]
  },
  {
   "cell_type": "code",
   "execution_count": 16,
   "metadata": {},
   "outputs": [],
   "source": [
    "final_feature.to_feather('final_feature.feather')"
   ]
  },
  {
   "cell_type": "code",
   "execution_count": null,
   "metadata": {},
   "outputs": [],
   "source": [
    "# print(result_df.sort_values('one_day_view', ascending=False).head())\n",
    "# print(res_feature.sort_values('one_day_buy', ascending=False).head())\n",
    "# 正负样本比例\n",
    "label_num = final_feature['label'].value_counts()\n",
    "print(\"正负样本比例：1:{:.0f}\".format(label_num[0] / label_num[1]))"
   ]
  },
  {
   "cell_type": "markdown",
   "metadata": {},
   "source": [
    "以下用于统计预测数据特征，用于结果输出"
   ]
  },
  {
   "cell_type": "code",
   "execution_count": 4,
   "metadata": {},
   "outputs": [],
   "source": [
    "user_feature = pd.read_feather('user_feature.feather')\n",
    "item_feature = pd.read_feather('item_feature.feather')\n",
    "# 选取购买数大于100的用户\n",
    "user_feature = user_feature[user_feature['user_buy_count'] > 100]\n",
    "# 选取购买数大于100的商品\n",
    "item_feature = item_feature[item_feature['item_buy_count'] > 100]\n",
    "# 采用用户和商品一一对应的方式，构建用户-商品交叉集\n",
    "cross_feature = user_feature.merge(item_feature, how='cross')\n",
    "cross_feature.drop(['index_x', 'index_y'], axis=1, inplace=True)"
   ]
  },
  {
   "cell_type": "code",
   "execution_count": null,
   "metadata": {},
   "outputs": [],
   "source": [
    "cross_feature = feather.read_dataframe('cross_feature.feather')\n",
    "\n",
    "cross_feature = cross_feature[cross_feature['pred_date'] == '2014-12-18']\n",
    "cross_feature.drop('pred_date', axis=1, inplace=True)\n"
   ]
  },
  {
   "cell_type": "code",
   "execution_count": null,
   "metadata": {},
   "outputs": [],
   "source": [
    "base_feature = cross_feature[['user_id', 'item_id']]\n",
    "res_feature = base_feature.copy()\n",
    "res_feature.set_index(['user_id', 'item_id'], inplace=True)\n",
    "print(res_feature)"
   ]
  },
  {
   "cell_type": "code",
   "execution_count": 6,
   "metadata": {},
   "outputs": [],
   "source": [
    "# 时间范围和对应的列名\n",
    "time_ranges = [\n",
    "    (1, 'one_day'),\n",
    "    (3, 'three_day'),\n",
    "    (7, 'seven_day'),\n",
    "    (15, 'fifteen_day'),\n",
    "    (30, 'thirty_day')\n",
    "]\n",
    "\n",
    "# 初始化res_feature\n",
    "for days, prefix in time_ranges:\n",
    "    for behavior_name in ['view', 'collect', 'cart', 'buy']:\n",
    "        res_feature[f'{prefix}_{behavior_name}'] = 0"
   ]
  },
  {
   "cell_type": "code",
   "execution_count": null,
   "metadata": {},
   "outputs": [],
   "source": [
    "day = pd.to_datetime('2014-12-19')\n",
    "for reader in readers:\n",
    "    for chunk in tqdm(reader):\n",
    "        # 选取pred_date = day的数据\n",
    "        result_df = base_feature.copy()\n",
    "        for days, prefix in time_ranges:\n",
    "            # 计算不同时间范围内的数据\n",
    "            chunk['time'] = pd.to_datetime(chunk['time'])\n",
    "            time_range_df = chunk[(day - chunk['time']).dt.days <= days]\n",
    "            for behavior, behavior_name in zip([1, 2, 3, 4], ['view', 'collect', 'cart', 'buy']):\n",
    "                behavior_count = time_range_df[time_range_df['behavior_type'] == behavior].groupby(['user_id', 'item_id']).size().reset_index(name=f'{prefix}_{behavior_name}')\n",
    "                result_df = result_df.merge(behavior_count, on=['user_id', 'item_id'], how='left')\n",
    "        \n",
    "        result_df.fillna(0, inplace=True)\n",
    "        result_df.set_index(['user_id', 'item_id'], inplace=True)\n",
    "        res_feature = res_feature.add(result_df, fill_value=0)         \n",
    "pred_feature = cross_feature.merge(res_feature, on=['user_id', 'item_id'], how='left')"
   ]
  },
  {
   "cell_type": "code",
   "execution_count": null,
   "metadata": {},
   "outputs": [],
   "source": [
    "pred_feature"
   ]
  },
  {
   "cell_type": "code",
   "execution_count": 10,
   "metadata": {},
   "outputs": [],
   "source": [
    "pred_feature.to_feather('pred_feature_100_100.feather')"
   ]
  }
 ],
 "metadata": {
  "kernelspec": {
   "display_name": "pytorch_gpu",
   "language": "python",
   "name": "python3"
  },
  "language_info": {
   "codemirror_mode": {
    "name": "ipython",
    "version": 3
   },
   "file_extension": ".py",
   "mimetype": "text/x-python",
   "name": "python",
   "nbconvert_exporter": "python",
   "pygments_lexer": "ipython3",
   "version": "3.7.16"
  }
 },
 "nbformat": 4,
 "nbformat_minor": 2
}
