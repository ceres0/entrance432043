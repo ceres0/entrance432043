{
 "cells": [
  {
   "cell_type": "code",
   "execution_count": 2,
   "metadata": {},
   "outputs": [],
   "source": [
    "import pandas as pd\n",
    "import cudf\n",
    "import xgboost as xgb\n",
    "from sklearn.model_selection import train_test_split\n",
    "from sklearn.metrics import accuracy_score\n",
    "from sklearn.feature_selection import SelectKBest, f_classif\n",
    "from sklearn.preprocessing import StandardScaler\n",
    "import numpy as np"
   ]
  },
  {
   "cell_type": "code",
   "execution_count": 3,
   "metadata": {},
   "outputs": [],
   "source": [
    "import feather\n",
    "df = feather.read_dataframe('feature/train_feature.feather')"
   ]
  },
  {
   "cell_type": "code",
   "execution_count": 4,
   "metadata": {},
   "outputs": [],
   "source": [
    "# 去除特征值含有 inf 的样本\n",
    "df = df.replace([np.inf, -np.inf], np.nan)\n",
    "df = df.dropna()"
   ]
  },
  {
   "cell_type": "code",
   "execution_count": null,
   "metadata": {},
   "outputs": [],
   "source": [
    "# df = cudf.from_pandas(df)\n",
    "# 取 2014-12-18 作为验证集\n",
    "df_check = df[df['pred_date'] == pd.Timestamp('2014-12-18')]\n",
    "# 取 2014-12-16、2014-12-17 作为训练集\n",
    "df = df[df['pred_date'] <= pd.Timestamp('2014-12-17')]"
   ]
  },
  {
   "cell_type": "code",
   "execution_count": 5,
   "metadata": {},
   "outputs": [],
   "source": [
    "# 分离特征和标签\n",
    "X = df.drop(['user_id', 'item_id', 'pred_date','label'], axis=1).values\n",
    "y = df['label'].values\n",
    "# X_check = df_check.drop(['user_id', 'item_id', 'pred_date','label'], axis=1).values\n",
    "# y_check = df_check['label'].values"
   ]
  },
  {
   "cell_type": "code",
   "execution_count": 5,
   "metadata": {},
   "outputs": [],
   "source": [
    "# 特征选择（使用 SelectKBest 和 f_classif）\n",
    "# selector = SelectKBest(score_func = f_classif, k = 10)\n",
    "# X = selector.fit_transform(X, y)\n",
    "\n",
    "# 数据预处理（标准化）\n",
    "scaler = StandardScaler()\n",
    "X = scaler.fit_transform(X)"
   ]
  },
  {
   "cell_type": "code",
   "execution_count": 7,
   "metadata": {},
   "outputs": [],
   "source": [
    "X = scaler.transform(X)"
   ]
  },
  {
   "cell_type": "code",
   "execution_count": 8,
   "metadata": {},
   "outputs": [],
   "source": [
    "\n",
    "# 划分训练集和测试集\n",
    "X_train, X_test, y_train, y_test = train_test_split(X, y, test_size = 0.2, random_state = 42)"
   ]
  },
  {
   "cell_type": "code",
   "execution_count": 6,
   "metadata": {},
   "outputs": [],
   "source": [
    "def f1_score(preds, dtrain):\n",
    "    labels = dtrain > 0.5\n",
    "    preds = preds > 0.5  # 根据概率阈值确定预测类别（假设二分类，阈值为0.5）\n",
    "    tp = np.sum((preds == 1) & (labels == 1))\n",
    "    fp = np.sum((preds == 1) & (labels == 0))\n",
    "    fn = np.sum((preds == 0) & (labels == 1))\n",
    "    precision = tp / (tp + fp + 1e-10)\n",
    "    recall = tp / (tp + fn + 1e-10)\n",
    "    f1 = 2 * precision * recall / (precision + recall + 1e-10)\n",
    "    return f1"
   ]
  },
  {
   "cell_type": "code",
   "execution_count": 9,
   "metadata": {},
   "outputs": [],
   "source": [
    "# 初始化 XGBoost 分类器并设置 GPU 相关参数\n",
    "model = xgb.XGBClassifier(\n",
    "    tree_method = \"hist\",\n",
    "    device = \"cuda\",\n",
    "    max_depth = 3,\n",
    "    learning_rate = 0.1,\n",
    "    n_estimators = 100,\n",
    "    objective = 'binary:logistic',\n",
    "    random_state = 42\n",
    ")"
   ]
  },
  {
   "cell_type": "code",
   "execution_count": null,
   "metadata": {},
   "outputs": [],
   "source": [
    "# 训练模型\n",
    "model.fit(X_train, y_train, eval_set=[(X_test, y_test)])"
   ]
  },
  {
   "cell_type": "code",
   "execution_count": null,
   "metadata": {},
   "outputs": [],
   "source": [
    "from xgboost import plot_importance\n",
    "from matplotlib import pyplot as plt\n",
    "plot_importance(model)\n",
    "plt.show() "
   ]
  },
  {
   "cell_type": "code",
   "execution_count": 22,
   "metadata": {},
   "outputs": [],
   "source": [
    "thresholds = np.sort(model.feature_importances_)\n",
    "threshold = thresholds[-5]"
   ]
  },
  {
   "cell_type": "code",
   "execution_count": null,
   "metadata": {},
   "outputs": [],
   "source": [
    "threshold"
   ]
  },
  {
   "cell_type": "code",
   "execution_count": null,
   "metadata": {},
   "outputs": [],
   "source": [
    "from sklearn.feature_selection import SelectFromModel\n",
    "selection = SelectFromModel(model, threshold=threshold, prefit=True)\n",
    "select_X_train = selection.transform(X_train)\n",
    "select_X_train.shape[1]"
   ]
  },
  {
   "cell_type": "code",
   "execution_count": null,
   "metadata": {},
   "outputs": [],
   "source": [
    "model_sel = xgb.XGBClassifier(\n",
    "    tree_method = \"hist\",\n",
    "    device = \"cuda\",\n",
    "    max_depth = 3,\n",
    "    learning_rate = 0.1,\n",
    "    n_estimators = 100,\n",
    "    objective = 'binary:logistic',\n",
    "    random_state = 42\n",
    ")\n",
    "model_sel.fit(select_X_train, y_train)"
   ]
  },
  {
   "cell_type": "code",
   "execution_count": null,
   "metadata": {},
   "outputs": [],
   "source": [
    "from datetime import datetime\n",
    "# 保存模型\n",
    "model_sel.save_model('model/XGBoost/model_sel_{:}.model'.format(datetime.now().strftime('%m%d%H%M')))\n",
    "import pickle\n",
    "# 保存特征选择器\n",
    "pickle.dump(selection, open('model/XGBoost/selection_{:}.pkl'.format(datetime.now().strftime('%m%d%H%M')), 'wb'))\n",
    "# 保存标准化器\n",
    "pickle.dump(scaler, open('model/XGBoost/scaler_{:}.pkl'.format(datetime.now().strftime('%m%d%H%M')), 'wb'))"
   ]
  },
  {
   "cell_type": "code",
   "execution_count": null,
   "metadata": {},
   "outputs": [],
   "source": [
    "model = xgb.XGBClassifier()\n",
    "model.load_model('model/XGBoost/model_rank10_01171856')\n",
    "import pickle\n",
    "scaler = pickle.load(open('model/XGBoost/scaler_01171856.pkl', 'rb'))"
   ]
  },
  {
   "cell_type": "code",
   "execution_count": 36,
   "metadata": {},
   "outputs": [],
   "source": [
    "item_data = feather.read_dataframe('dataset/item_data.feather')\n",
    "item_data.drop(['item_geohash', 'item_category'], axis=1, inplace=True)"
   ]
  },
  {
   "cell_type": "code",
   "execution_count": null,
   "metadata": {},
   "outputs": [],
   "source": [
    "from datetime import datetime\n",
    "# 保存模型\n",
    "model.save_model('model/XGBoost/model_{:}'.format(datetime.now().strftime('%m%d%H%M')))\n",
    "# # 保存特征选择器\n",
    "# import pickle\n",
    "# with open('model/XGBoost/selector_{:}.pkl'.format(datetime.now().strftime('%m%d%H%M')), 'wb') as f:\n",
    "#     pickle.dump(selector, f)"
   ]
  },
  {
   "cell_type": "code",
   "execution_count": 29,
   "metadata": {},
   "outputs": [],
   "source": [
    "import feather\n",
    "\\\n",
    "# 读取预测数据\n",
    "df = feather.read_dataframe('feature/pred_feature.feather')\n",
    "df_id = df[['user_id', 'item_id']]\n",
    "df_X = df.drop(columns=['user_id', 'item_id'])\n",
    "if 'index_x' in df.columns:\n",
    "    df_X = df_X.drop(columns=['index_x', 'index_y'])\n",
    "df_X = df_X.values\n",
    "df_X = df_X[~np.isinf(df_X).any(axis=1)]"
   ]
  },
  {
   "cell_type": "code",
   "execution_count": 30,
   "metadata": {},
   "outputs": [],
   "source": [
    "model = model_sel"
   ]
  },
  {
   "cell_type": "code",
   "execution_count": null,
   "metadata": {},
   "outputs": [],
   "source": [
    "# 对预测数据进行特征选择和数据预处理\n",
    "# df_X = selector.transform(df_X)\n",
    "df_X = scaler.transform(df_X)\n",
    "\n",
    "# 进行预测\n",
    "df_y = model.predict_proba(df_X)"
   ]
  },
  {
   "cell_type": "code",
   "execution_count": null,
   "metadata": {},
   "outputs": [],
   "source": [
    "# 特征选择\n",
    "df_X = selection.transform(df_X)\n",
    "\n",
    "# 进行预测\n",
    "df_y = model_sel.predict_proba(df_X)"
   ]
  },
  {
   "cell_type": "code",
   "execution_count": null,
   "metadata": {},
   "outputs": [],
   "source": [
    "df_id['prob'] = df_y[:,1]"
   ]
  },
  {
   "cell_type": "code",
   "execution_count": null,
   "metadata": {},
   "outputs": [],
   "source": [
    "df_id.sort_values(by=['prob'], ascending=[False], inplace=True)"
   ]
  },
  {
   "cell_type": "code",
   "execution_count": null,
   "metadata": {},
   "outputs": [],
   "source": [
    "result = df_id.merge(item_data, on='item_id', how='inner')"
   ]
  },
  {
   "cell_type": "code",
   "execution_count": 38,
   "metadata": {},
   "outputs": [],
   "source": [
    "from datetime import datetime\n",
    "# 输出前 300000 条数据\n",
    "result.head(300000)[['user_id','item_id']].to_csv('result/XGBoost/result_300000_{:}.txt'.format(datetime.now().strftime('%m%d%H%M')), index=False, header=False, sep='\\t')"
   ]
  },
  {
   "cell_type": "code",
   "execution_count": null,
   "metadata": {},
   "outputs": [],
   "source": [
    "\n",
    "# 将正样本对应的df_id保存到文件\n",
    "df_id['label'] = df_y\n",
    "df_id = df_id[df_id['label'] == 1]\n",
    "df_id = df_id.drop(columns=['label'])\n",
    "df_id.to_csv('result/XGBoost/result_{:}.txt'.format(datetime.now().strftime('%m%d%H%M')), index=False, header=False, sep='\\t')"
   ]
  },
  {
   "cell_type": "code",
   "execution_count": 13,
   "metadata": {},
   "outputs": [],
   "source": [
    "df_id.to_csv('result/XGBoost/result_{:}.txt'.format(datetime.now().strftime('%m%d%H%M')), index=False, header=False, sep='\\t')"
   ]
  },
  {
   "cell_type": "code",
   "execution_count": 1,
   "metadata": {},
   "outputs": [],
   "source": [
    "import pandas as pd\n",
    "result = pd.read_csv('result/XGBoost/result_300000_01171928.txt', sep='\\t', header=None)\n",
    "result = result.head(30000)"
   ]
  },
  {
   "cell_type": "code",
   "execution_count": 2,
   "metadata": {},
   "outputs": [],
   "source": [
    "from datetime import datetime\n",
    "result.to_csv('result/XGBoost/result_30000_{:}.txt'.format(datetime.now().strftime('%m%d%H%M')), index=False, header=False, sep='\\t')"
   ]
  }
 ],
 "metadata": {
  "kernelspec": {
   "display_name": "rapids-24.12",
   "language": "python",
   "name": "python3"
  },
  "language_info": {
   "codemirror_mode": {
    "name": "ipython",
    "version": 3
   },
   "file_extension": ".py",
   "mimetype": "text/x-python",
   "name": "python",
   "nbconvert_exporter": "python",
   "pygments_lexer": "ipython3",
   "version": "3.12.8"
  }
 },
 "nbformat": 4,
 "nbformat_minor": 2
}
