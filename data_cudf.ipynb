{
 "cells": [
  {
   "cell_type": "code",
   "execution_count": 1,
   "metadata": {},
   "outputs": [],
   "source": [
    "import cudf\n",
    "import pandas as pd\n",
    "from tqdm import tqdm"
   ]
  },
  {
   "cell_type": "code",
   "execution_count": 3,
   "metadata": {},
   "outputs": [],
   "source": [
    "# chunksize = 100000000\n",
    "# readers = [cudf.read_csv('dataset\\\\tianchi_fresh_comp_train_user_online_partA.txt', sep='\\t', header=None, names=['user_id', 'item_id', 'behavior_type', 'user_geohash', 'item_category', 'time'], chunksize=chunksize), cudf.read_csv('dataset\\\\tianchi_fresh_comp_train_user_online_partB.txt', sep='\\t', header=None, names=['user_id', 'item_id', 'behavior_type', 'user_geohash', 'item_category', 'time'], chunksize=chunksize)]\n",
    "behavior_data = pd.read_csv('dataset/tianchi_fresh_comp_train_user_online_partA.txt', sep='\\t', header=None, names=['user_id', 'item_id', 'behavior_type', 'user_geohash', 'item_category', 'time'])\n",
    "behavior_data = pd.concat([behavior_data, pd.read_csv('dataset/tianchi_fresh_comp_train_user_online_partB.txt', sep='\\t', header=None, names=['user_id', 'item_id', 'behavior_type', 'user_geohash', 'item_category', 'time'])])"
   ]
  },
  {
   "cell_type": "code",
   "execution_count": 4,
   "metadata": {},
   "outputs": [],
   "source": [
    "behavior_data.to_feather('dataset/behavior_data.feather')"
   ]
  },
  {
   "cell_type": "code",
   "execution_count": 2,
   "metadata": {},
   "outputs": [],
   "source": [
    "behavior_data = pd.read_feather('dataset/behavior_data.feather')\n",
    "\n",
    "user_behavior = pd.read_feather('feature/user_behavior.feather')"
   ]
  },
  {
   "cell_type": "code",
   "execution_count": null,
   "metadata": {},
   "outputs": [],
   "source": [
    "item_data = pd.read_feather('dataset/item_data.feather')\n",
    "item_data = cudf.from_pandas(item_data)\n",
    "item_data = item_data.drop(['item_geohash', 'item_category'], axis=1)"
   ]
  },
  {
   "cell_type": "code",
   "execution_count": 38,
   "metadata": {},
   "outputs": [],
   "source": [
    "item_data = pd.read_csv('dataset/tianchi_fresh_comp_train_item_online.txt', sep='\\t', header=None, names=['item_id', 'item_geohash', 'item_category'])\n",
    "item_data.to_feather('dataset/item_data.feather')"
   ]
  },
  {
   "cell_type": "markdown",
   "metadata": {},
   "source": [
    "## 以下进行前期数据统计"
   ]
  },
  {
   "cell_type": "code",
   "execution_count": 10,
   "metadata": {},
   "outputs": [
    {
     "name": "stderr",
     "output_type": "stream",
     "text": [
      "  0%|          | 0/11 [00:09<?, ?it/s]\n"
     ]
    },
    {
     "ename": "KeyboardInterrupt",
     "evalue": "",
     "output_type": "error",
     "traceback": [
      "\u001b[0;31m---------------------------------------------------------------------------\u001b[0m",
      "\u001b[0;31mKeyboardInterrupt\u001b[0m                         Traceback (most recent call last)",
      "Cell \u001b[0;32mIn[10], line 6\u001b[0m\n\u001b[1;32m      4\u001b[0m \u001b[38;5;28;01mfor\u001b[39;00m i \u001b[38;5;129;01min\u001b[39;00m tqdm(\u001b[38;5;28mrange\u001b[39m(\u001b[38;5;241m1\u001b[39m, \u001b[38;5;28mlen\u001b[39m(behavior_data), chunksize)):\n\u001b[1;32m      5\u001b[0m     chunk \u001b[38;5;241m=\u001b[39m behavior_data[i:i\u001b[38;5;241m+\u001b[39mchunksize]\n\u001b[0;32m----> 6\u001b[0m     cudf_chunk \u001b[38;5;241m=\u001b[39m cudf\u001b[38;5;241m.\u001b[39mfrom_pandas(chunk)\n\u001b[1;32m      7\u001b[0m     cudf_chunk\u001b[38;5;241m.\u001b[39mmerge(item_data, on\u001b[38;5;241m=\u001b[39m\u001b[38;5;124m'\u001b[39m\u001b[38;5;124mitem_id\u001b[39m\u001b[38;5;124m'\u001b[39m, how\u001b[38;5;241m=\u001b[39m\u001b[38;5;124m'\u001b[39m\u001b[38;5;124minner\u001b[39m\u001b[38;5;124m'\u001b[39m)\n\u001b[1;32m      8\u001b[0m     \u001b[38;5;66;03m# time\u001b[39;00m\n",
      "File \u001b[0;32m/data/gyh/envs/rapids-24.12/lib/python3.12/site-packages/cudf/utils/performance_tracking.py:51\u001b[0m, in \u001b[0;36m_performance_tracking.<locals>.wrapper\u001b[0;34m(*args, **kwargs)\u001b[0m\n\u001b[1;32m     43\u001b[0m \u001b[38;5;28;01mif\u001b[39;00m nvtx\u001b[38;5;241m.\u001b[39menabled():\n\u001b[1;32m     44\u001b[0m     stack\u001b[38;5;241m.\u001b[39menter_context(\n\u001b[1;32m     45\u001b[0m         nvtx\u001b[38;5;241m.\u001b[39mannotate(\n\u001b[1;32m     46\u001b[0m             message\u001b[38;5;241m=\u001b[39mfunc\u001b[38;5;241m.\u001b[39m\u001b[38;5;18m__qualname__\u001b[39m,\n\u001b[0;32m   (...)\u001b[0m\n\u001b[1;32m     49\u001b[0m         )\n\u001b[1;32m     50\u001b[0m     )\n\u001b[0;32m---> 51\u001b[0m \u001b[38;5;28;01mreturn\u001b[39;00m func(\u001b[38;5;241m*\u001b[39margs, \u001b[38;5;241m*\u001b[39m\u001b[38;5;241m*\u001b[39mkwargs)\n",
      "File \u001b[0;32m/data/gyh/envs/rapids-24.12/lib/python3.12/site-packages/cudf/core/dataframe.py:8278\u001b[0m, in \u001b[0;36mfrom_pandas\u001b[0;34m(obj, nan_as_null)\u001b[0m\n\u001b[1;32m   8273\u001b[0m     nan_as_null \u001b[38;5;241m=\u001b[39m (\n\u001b[1;32m   8274\u001b[0m         \u001b[38;5;28;01mFalse\u001b[39;00m \u001b[38;5;28;01mif\u001b[39;00m cudf\u001b[38;5;241m.\u001b[39mget_option(\u001b[38;5;124m\"\u001b[39m\u001b[38;5;124mmode.pandas_compatible\u001b[39m\u001b[38;5;124m\"\u001b[39m) \u001b[38;5;28;01melse\u001b[39;00m \u001b[38;5;28;01mNone\u001b[39;00m\n\u001b[1;32m   8275\u001b[0m     )\n\u001b[1;32m   8277\u001b[0m \u001b[38;5;28;01mif\u001b[39;00m \u001b[38;5;28misinstance\u001b[39m(obj, pd\u001b[38;5;241m.\u001b[39mDataFrame):\n\u001b[0;32m-> 8278\u001b[0m     \u001b[38;5;28;01mreturn\u001b[39;00m DataFrame\u001b[38;5;241m.\u001b[39mfrom_pandas(obj, nan_as_null\u001b[38;5;241m=\u001b[39mnan_as_null)\n\u001b[1;32m   8279\u001b[0m \u001b[38;5;28;01melif\u001b[39;00m \u001b[38;5;28misinstance\u001b[39m(obj, pd\u001b[38;5;241m.\u001b[39mSeries):\n\u001b[1;32m   8280\u001b[0m     \u001b[38;5;28;01mreturn\u001b[39;00m Series\u001b[38;5;241m.\u001b[39mfrom_pandas(obj, nan_as_null\u001b[38;5;241m=\u001b[39mnan_as_null)\n",
      "File \u001b[0;32m/data/gyh/envs/rapids-24.12/lib/python3.12/site-packages/cudf/utils/performance_tracking.py:51\u001b[0m, in \u001b[0;36m_performance_tracking.<locals>.wrapper\u001b[0;34m(*args, **kwargs)\u001b[0m\n\u001b[1;32m     43\u001b[0m \u001b[38;5;28;01mif\u001b[39;00m nvtx\u001b[38;5;241m.\u001b[39menabled():\n\u001b[1;32m     44\u001b[0m     stack\u001b[38;5;241m.\u001b[39menter_context(\n\u001b[1;32m     45\u001b[0m         nvtx\u001b[38;5;241m.\u001b[39mannotate(\n\u001b[1;32m     46\u001b[0m             message\u001b[38;5;241m=\u001b[39mfunc\u001b[38;5;241m.\u001b[39m\u001b[38;5;18m__qualname__\u001b[39m,\n\u001b[0;32m   (...)\u001b[0m\n\u001b[1;32m     49\u001b[0m         )\n\u001b[1;32m     50\u001b[0m     )\n\u001b[0;32m---> 51\u001b[0m \u001b[38;5;28;01mreturn\u001b[39;00m func(\u001b[38;5;241m*\u001b[39margs, \u001b[38;5;241m*\u001b[39m\u001b[38;5;241m*\u001b[39mkwargs)\n",
      "File \u001b[0;32m/data/gyh/envs/rapids-24.12/lib/python3.12/site-packages/cudf/core/dataframe.py:5529\u001b[0m, in \u001b[0;36mDataFrame.from_pandas\u001b[0;34m(cls, dataframe, nan_as_null)\u001b[0m\n\u001b[1;32m   5523\u001b[0m     nan_as_null \u001b[38;5;241m=\u001b[39m (\n\u001b[1;32m   5524\u001b[0m         \u001b[38;5;28;01mFalse\u001b[39;00m \u001b[38;5;28;01mif\u001b[39;00m cudf\u001b[38;5;241m.\u001b[39mget_option(\u001b[38;5;124m\"\u001b[39m\u001b[38;5;124mmode.pandas_compatible\u001b[39m\u001b[38;5;124m\"\u001b[39m) \u001b[38;5;28;01melse\u001b[39;00m \u001b[38;5;28;01mNone\u001b[39;00m\n\u001b[1;32m   5525\u001b[0m     )\n\u001b[1;32m   5527\u001b[0m \u001b[38;5;28;01mif\u001b[39;00m \u001b[38;5;28misinstance\u001b[39m(dataframe, pd\u001b[38;5;241m.\u001b[39mDataFrame):\n\u001b[1;32m   5528\u001b[0m     data \u001b[38;5;241m=\u001b[39m {\n\u001b[0;32m-> 5529\u001b[0m         i: column\u001b[38;5;241m.\u001b[39mas_column(col_value\u001b[38;5;241m.\u001b[39marray, nan_as_null\u001b[38;5;241m=\u001b[39mnan_as_null)\n\u001b[1;32m   5530\u001b[0m         \u001b[38;5;28;01mfor\u001b[39;00m i, (_, col_value) \u001b[38;5;129;01min\u001b[39;00m \u001b[38;5;28menumerate\u001b[39m(dataframe\u001b[38;5;241m.\u001b[39mitems())\n\u001b[1;32m   5531\u001b[0m     }\n\u001b[1;32m   5532\u001b[0m     \u001b[38;5;28;01mif\u001b[39;00m \u001b[38;5;28misinstance\u001b[39m(dataframe\u001b[38;5;241m.\u001b[39mindex, pd\u001b[38;5;241m.\u001b[39mMultiIndex):\n\u001b[1;32m   5533\u001b[0m         index \u001b[38;5;241m=\u001b[39m cudf\u001b[38;5;241m.\u001b[39mMultiIndex\u001b[38;5;241m.\u001b[39mfrom_pandas(\n\u001b[1;32m   5534\u001b[0m             dataframe\u001b[38;5;241m.\u001b[39mindex, nan_as_null\u001b[38;5;241m=\u001b[39mnan_as_null\n\u001b[1;32m   5535\u001b[0m         )\n",
      "File \u001b[0;32m/data/gyh/envs/rapids-24.12/lib/python3.12/site-packages/cudf/core/column/column.py:1897\u001b[0m, in \u001b[0;36mas_column\u001b[0;34m(arbitrary, nan_as_null, dtype, length)\u001b[0m\n\u001b[1;32m   1894\u001b[0m \u001b[38;5;28;01mif\u001b[39;00m \u001b[38;5;28misinstance\u001b[39m(arbitrary, NumpyExtensionArray):\n\u001b[1;32m   1895\u001b[0m     \u001b[38;5;66;03m# infer_dtype does not handle NumpyExtensionArray\u001b[39;00m\n\u001b[1;32m   1896\u001b[0m     arbitrary \u001b[38;5;241m=\u001b[39m np\u001b[38;5;241m.\u001b[39marray(arbitrary, dtype\u001b[38;5;241m=\u001b[39m\u001b[38;5;28mobject\u001b[39m)\n\u001b[0;32m-> 1897\u001b[0m inferred_dtype \u001b[38;5;241m=\u001b[39m infer_dtype(arbitrary)\n\u001b[1;32m   1898\u001b[0m \u001b[38;5;28;01mif\u001b[39;00m inferred_dtype \u001b[38;5;129;01min\u001b[39;00m (\u001b[38;5;124m\"\u001b[39m\u001b[38;5;124mmixed-integer\u001b[39m\u001b[38;5;124m\"\u001b[39m, \u001b[38;5;124m\"\u001b[39m\u001b[38;5;124mmixed-integer-float\u001b[39m\u001b[38;5;124m\"\u001b[39m):\n\u001b[1;32m   1899\u001b[0m     \u001b[38;5;28;01mraise\u001b[39;00m MixedTypeError(\u001b[38;5;124m\"\u001b[39m\u001b[38;5;124mCannot create column with mixed types\u001b[39m\u001b[38;5;124m\"\u001b[39m)\n",
      "\u001b[0;31mKeyboardInterrupt\u001b[0m: "
     ]
    }
   ],
   "source": [
    "# 统计每日购买行为数量\n",
    "chunksize = len(behavior_data) // 10\n",
    "buy_status = None\n",
    "for i in tqdm(range(1, len(behavior_data), chunksize)):\n",
    "    chunk = behavior_data[i:i+chunksize]\n",
    "    cudf_chunk = cudf.from_pandas(chunk)\n",
    "    cudf_chunk.merge(item_data, on='item_id', how='inner')\n",
    "    # time\n",
    "    cudf_chunk['time'] = cudf_chunk['time'].str.slice(0, 10)\n",
    "    buy_count = cudf_chunk[cudf_chunk['behavior_type'] == 4].groupby('time').size().reset_index(name='buy_num')\n",
    "    if buy_status is None:\n",
    "        buy_status = buy_count\n",
    "    else:\n",
    "        buy_status = cudf.concat([buy_status, buy_count])\n",
    "        buy_status = buy_status.groupby('time').sum().reset_index().sort_values('time')\n"
   ]
  },
  {
   "cell_type": "code",
   "execution_count": 32,
   "metadata": {},
   "outputs": [],
   "source": [
    "buy_status = buy_status.to_pandas()\n",
    "buy_status['time']=pd.to_datetime(buy_status['time'])"
   ]
  },
  {
   "cell_type": "code",
   "execution_count": 24,
   "metadata": {},
   "outputs": [
    {
     "data": {
      "image/png": "[encoded data removed]",
      "text/plain": [
       "<Figure size 640x480 with 1 Axes>"
      ]
     },
     "metadata": {},
     "output_type": "display_data"
    }
   ],
   "source": [
    "# 绘制条形图\n",
    "import matplotlib.pyplot as plt\n",
    "# buy_status['time'] = buy_status['time'].astype('datetime64').sort_values('time')\n",
    "plt.bar(buy_status['time'].values, buy_status['buy_num'].values)\n",
    "# 拉长图片\n",
    "plt.gcf().autofmt_xdate()\n",
    "plt.show()"
   ]
  },
  {
   "cell_type": "code",
   "execution_count": 33,
   "metadata": {},
   "outputs": [],
   "source": [
    "# 购买时间转变为字符串\n",
    "buy_status['time'] = buy_status['time'].astype('str')"
   ]
  },
  {
   "cell_type": "code",
   "execution_count": 35,
   "metadata": {},
   "outputs": [
    {
     "name": "stdout",
     "output_type": "stream",
     "text": [
      "301913 365579 332478.13333333336\n"
     ]
    }
   ],
   "source": [
    "buy_status_clean = buy_status[buy_status['time'] != '2014-12-12']\n",
    "print(buy_status_clean['buy_num'].min(), buy_status_clean['buy_num'].max(), buy_status_clean['buy_num'].mean())"
   ]
  },
  {
   "cell_type": "markdown",
   "metadata": {},
   "source": [
    "## 以下为用户和商品特征提取"
   ]
  },
  {
   "cell_type": "code",
   "execution_count": 8,
   "metadata": {},
   "outputs": [],
   "source": [
    "user_behavior = behavior_data.groupby(['user_id','item_id'])['behavior_type'].value_counts().unstack(fill_value=0)\n",
    "user_behavior.rename(columns={1: 'view_count', 2: 'collect_count', 3: 'cart_count', 4: 'buy_count'}, inplace=True)"
   ]
  },
  {
   "cell_type": "code",
   "execution_count": 12,
   "metadata": {},
   "outputs": [],
   "source": [
    "import feather\n",
    "user_behavior.reset_index().to_feather('feature/user_behavior.feather')"
   ]
  },
  {
   "cell_type": "code",
   "execution_count": 4,
   "metadata": {},
   "outputs": [],
   "source": [
    "# 统计用户的总浏览次数、总收藏次数、总加购物车次数、总购买次数\n",
    "# 计算每次处理的数据量\n",
    "chunk_size = len(user_behavior) // 10\n",
    "# 存储最终结果\n",
    "user_stats = None\n",
    "item_stats = None\n",
    "\n",
    "counts = ['view_count','collect_count','cart_count','buy_count']\n",
    "\n",
    "# 分块处理\n",
    "for i in range(0, len(user_behavior), chunk_size):\n",
    "    # 取一个块的数据\n",
    "    chunk = user_behavior.iloc[i:i + chunk_size]\n",
    "    # 将 pandas DataFrame 转换为 cudf DataFrame\n",
    "    cudf_chunk = cudf.from_pandas(chunk)\n",
    "    # 按用户分组统计\n",
    "    user_group = cudf_chunk.groupby('user_id')[counts].sum()\n",
    "    # 按商品分组统计\n",
    "    item_group = cudf_chunk.groupby('item_id')[counts].sum()\n",
    "    if user_stats is None:\n",
    "        user_stats = user_group\n",
    "        item_stats = item_group\n",
    "    else:\n",
    "        user_stats = user_stats.add(user_group, fill_value=0)\n",
    "        item_stats = item_stats.add(item_group, fill_value=0)\n",
    "\n",
    "# 将结果转换回 pandas DataFrame\n",
    "# user_stats = user_stats.to_pandas().reset_index().rename(columns={elem: f'user_{elem}' for elem in counts})\n",
    "# item_stats = item_stats.to_pandas().reset_index().rename(columns={elem: f'item_{elem}' for elem in counts})\n",
    "# 修改列名\n",
    "user_stats = user_stats.reset_index().rename(columns={elem: f'user_{elem}' for elem in counts})\n",
    "item_stats = item_stats.reset_index().rename(columns={elem: f'item_{elem}' for elem in counts})\n"
   ]
  },
  {
   "cell_type": "code",
   "execution_count": null,
   "metadata": {},
   "outputs": [],
   "source": [
    "user_stats.to_feather('feature/user_feature.feather')\n",
    "item_stats.to_feather('feature/item_feature.feather')"
   ]
  },
  {
   "cell_type": "code",
   "execution_count": null,
   "metadata": {},
   "outputs": [],
   "source": [
    "# 合并用户统计结果到原表\n",
    "user_behavior = pd.merge(user_behavior, user_stats, on='user_id', how='left')\n",
    "# 合并商品统计结果到原表\n",
    "user_behavior = pd.merge(user_behavior, item_stats, on='item_id', how='left')"
   ]
  },
  {
   "cell_type": "code",
   "execution_count": 6,
   "metadata": {},
   "outputs": [],
   "source": [
    "user_stats = cudf.from_pandas(user_stats)\n",
    "item_stats = cudf.from_pandas(item_stats)\n",
    "# 将新特征合并到原表中\n",
    "# 计算每次处理的数据量\n",
    "chunk_size = len(user_behavior) // 10\n",
    "# 存储最终结果\n",
    "user_item_feature = None\n",
    "# 分块处理\n",
    "for i in range(0, len(user_behavior), chunk_size):\n",
    "    chunk = user_behavior.iloc[i:i + chunk_size]\n",
    "    cudf_chunk = cudf.from_pandas(chunk)\n",
    "    merged = cudf_chunk.merge(user_stats, on='user_id', how='left')\n",
    "    merged = merged.merge(item_stats, on='item_id', how='left')\n",
    "    merged = merged.to_pandas()\n",
    "    if user_item_feature is None:\n",
    "        user_item_feature = merged\n",
    "    else:\n",
    "        user_item_feature = pd.concat([user_item_feature, merged])"
   ]
  },
  {
   "cell_type": "code",
   "execution_count": 12,
   "metadata": {},
   "outputs": [],
   "source": [
    "user_item_feature.to_feather('feature/user_item_feature.feather')"
   ]
  },
  {
   "cell_type": "code",
   "execution_count": 14,
   "metadata": {},
   "outputs": [],
   "source": [
    "user_item_feature = pd.read_feather('feature/user_item_feature.feather')"
   ]
  },
  {
   "cell_type": "code",
   "execution_count": 16,
   "metadata": {},
   "outputs": [],
   "source": [
    "user_item_feature['user_buy_view_rate'] = user_item_feature['user_buy_count'] / user_item_feature['user_view_count']\n",
    "user_item_feature['item_buy_view_rate'] = user_item_feature['item_buy_count'] / user_item_feature['item_view_count']"
   ]
  },
  {
   "cell_type": "code",
   "execution_count": 18,
   "metadata": {},
   "outputs": [],
   "source": [
    "user_item_feature.to_feather('feature/user_item_feature_with_rate.feather')"
   ]
  },
  {
   "cell_type": "markdown",
   "metadata": {},
   "source": [
    "## 以下开始基于时间跨度对交叉特征进行提取"
   ]
  },
  {
   "cell_type": "code",
   "execution_count": 3,
   "metadata": {},
   "outputs": [],
   "source": [
    "# 删除user_geohash、item_category列\n",
    "behavior_data.drop(columns=['user_geohash', 'item_category'], inplace=True)\n",
    "behavior_data['time'] = pd.to_datetime(behavior_data['time'])"
   ]
  },
  {
   "cell_type": "code",
   "execution_count": null,
   "metadata": {},
   "outputs": [],
   "source": [
    "# 时间范围和对应的列名\n",
    "time_ranges = [\n",
    "    (1, '1_day'),\n",
    "    (3, '3_day'),\n",
    "    (7, '7_day'),\n",
    "    (15, '15_day')\n",
    "]\n",
    "date_range = pd.date_range('2014-12-16', '2014-12-18', freq='D')\n",
    "# day = pd.Timestamp('2014-12-16')\n",
    "final_feature = None\n",
    "# 计算每次处理的数据量\n",
    "chunk_size = len(behavior_data) // 10\n",
    "for day in date_range:\n",
    "    res_feature = None\n",
    "    for i in tqdm(range(0, len(behavior_data), chunk_size)):\n",
    "        chunk = behavior_data.iloc[i:i + chunk_size]\n",
    "        # 如果 time 是字符串，需要转换为时间戳\n",
    "        if chunk['time'].dtype == 'O':\n",
    "            chunk['time'] = pd.to_datetime(chunk['time'])\n",
    "        chunk = cudf.from_pandas(chunk)\n",
    "        result_df = None  \n",
    "        for days, col_name in time_ranges:\n",
    "            # 按小时统计\n",
    "            dayd = day - chunk['time']\n",
    "            time_range_df = chunk[(day >= chunk['time']) & (dayd.dt.seconds <= (days - dayd.dt.days) * 24 * 3600)]\n",
    "            # time_range_df = chunk[dayd.dt.seconds <= (days - dayd.dt.days) * 24 * 3600]\n",
    "            # time_range_df = time_range_df.to_pandas()\n",
    "            behavior_df = None\n",
    "            for behavior, behavior_name in zip([1, 2, 3, 4], ['view', 'collect', 'cart', 'buy']):\n",
    "                behavior_count = time_range_df[time_range_df['behavior_type'] == behavior].groupby(['user_id', 'item_id']).size().reset_index(name=f'user_item_{col_name}_{behavior_name}_count')\n",
    "                if behavior_df is None:\n",
    "                    behavior_df = behavior_count\n",
    "                else:\n",
    "                    behavior_df = behavior_df.merge(behavior_count, on=['user_id', 'item_id'], how='left')\n",
    "            # del behavior_count\n",
    "            # 删除 time 列\n",
    "            # behavior_count.drop(columns='time', inplace=True)\n",
    "            if result_df is None:\n",
    "                result_df = behavior_df\n",
    "            else:\n",
    "                result_df = result_df.merge(behavior_df, on=['user_id','item_id'], how='left')\n",
    "        # del behavior_df\n",
    "        # del time_range_df\n",
    "        # 添加标签，即预测的日期有购买行为\n",
    "        label_df = chunk[(day <= chunk['time']) & ((chunk['time'] - day).dt.days < 1) & (chunk['behavior_type'] == 4)].groupby(['user_id', 'item_id']).size().reset_index(name='label')\n",
    "        # 将标签合并到结果中，如果没有购买行为，则标签为 0\n",
    "        result_df = result_df.merge(label_df, on=['user_id', 'item_id'], how='outer').fillna(0)\n",
    "        result_df = result_df.to_pandas()\n",
    "        if res_feature is None:\n",
    "            res_feature = result_df\n",
    "        else:\n",
    "            res_feature = pd.concat([res_feature, result_df])\n",
    "            res_feature = res_feature.groupby(['user_id','item_id']).sum().reset_index()\n",
    "    # del result_df\n",
    "    # print(len(res_feature))\n",
    "    res_feature['pred_date'] = day\n",
    "    # 将标签转化为0-1\n",
    "    res_feature['label'] = res_feature['label'].apply(lambda x: 1 if x > 0 else 0)\n",
    "    if final_feature is None:\n",
    "        final_feature = res_feature\n",
    "    else:\n",
    "        final_feature = pd.concat([final_feature, res_feature])\n",
    "# del res_feature\n",
    "final_feature"
   ]
  },
  {
   "cell_type": "code",
   "execution_count": 5,
   "metadata": {},
   "outputs": [],
   "source": [
    "final_feature.to_feather('feature/user_item_timerange_feature.feather')"
   ]
  },
  {
   "cell_type": "code",
   "execution_count": null,
   "metadata": {},
   "outputs": [],
   "source": [
    "import gc\n",
    "gc.collect()"
   ]
  },
  {
   "cell_type": "code",
   "execution_count": null,
   "metadata": {},
   "outputs": [],
   "source": [
    "user_item_timerange_feature = pd.read_feather('feature/user_item_timerange_feature.feather')\n",
    "user_item_timerange_feature"
   ]
  },
  {
   "cell_type": "code",
   "execution_count": null,
   "metadata": {},
   "outputs": [],
   "source": [
    "user_item_feature = pd.read_feather('feature/user_item_feature_with_rate.feather')\n",
    "user_item_feature"
   ]
  },
  {
   "cell_type": "code",
   "execution_count": null,
   "metadata": {},
   "outputs": [],
   "source": [
    "train_feature = final_feature.merge(user_item_feature, on=['user_id', 'item_id'], how='left')"
   ]
  },
  {
   "cell_type": "code",
   "execution_count": null,
   "metadata": {},
   "outputs": [],
   "source": [
    "chunk_size = len(user_item_feature) // 10\n",
    "user_item_timerange_feature = cudf.from_pandas(user_item_timerange_feature)\n",
    "train_feature = None\n",
    "for i in tqdm(range(1, len(user_item_feature), chunk_size)):\n",
    "    chunk = user_item_feature.iloc[i:i + chunk_size]\n",
    "    cudf_chunk = cudf.from_pandas(chunk)\n",
    "    merged = cudf_chunk.merge(user_item_timerange_feature, on=['user_id', 'item_id'], how='inner')\n",
    "    merged = merged.to_pandas()\n",
    "    if train_feature is None:\n",
    "        train_feature = merged\n",
    "    else:\n",
    "        train_feature = pd.concat([train_feature, merged])"
   ]
  },
  {
   "cell_type": "code",
   "execution_count": null,
   "metadata": {},
   "outputs": [],
   "source": [
    "train_feature"
   ]
  },
  {
   "cell_type": "code",
   "execution_count": 10,
   "metadata": {},
   "outputs": [],
   "source": [
    "train_feature.to_feather('feature/train_feature.feather')"
   ]
  },
  {
   "cell_type": "code",
   "execution_count": 4,
   "metadata": {},
   "outputs": [],
   "source": [
    "train_feature = pd.read_feather('feature/train_feature.feather')"
   ]
  },
  {
   "cell_type": "code",
   "execution_count": 18,
   "metadata": {},
   "outputs": [
    {
     "data": {
      "image/png": "[encoded data removed]",
      "text/plain": [
       "<Figure size 640x480 with 1 Axes>"
      ]
     },
     "metadata": {},
     "output_type": "display_data"
    }
   ],
   "source": [
    "# 绘制正负样本比例示意图\n",
    "import matplotlib.pyplot as plt\n",
    "y_data = train_feature['label'].value_counts().values\n",
    "x_data = ['neg', 'pos']\n",
    "y_text = y_data / y_data[1]\n",
    "plt.bar(x_data, y_data)\n",
    "for a, b, c in zip(x_data, y_data, y_text):\n",
    "    plt.text(a, b, '%.0f' % c, ha='center', va= 'bottom',fontsize=11)\n",
    "plt.show()"
   ]
  },
  {
   "cell_type": "code",
   "execution_count": null,
   "metadata": {},
   "outputs": [
    {
     "data": {
      "text/html": [
       "<div>\n",
       "<style scoped>\n",
       "    .dataframe tbody tr th:only-of-type {\n",
       "        vertical-align: middle;\n",
       "    }\n",
       "\n",
       "    .dataframe tbody tr th {\n",
       "        vertical-align: top;\n",
       "    }\n",
       "\n",
       "    .dataframe thead th {\n",
       "        text-align: right;\n",
       "    }\n",
       "</style>\n",
       "<table border=\"1\" class=\"dataframe\">\n",
       "  <thead>\n",
       "    <tr style=\"text-align: right;\">\n",
       "      <th></th>\n",
       "      <th>user_id</th>\n",
       "      <th>item_id</th>\n",
       "      <th>behavior_type</th>\n",
       "      <th>time</th>\n",
       "    </tr>\n",
       "  </thead>\n",
       "  <tbody>\n",
       "    <tr>\n",
       "      <th>565522820</th>\n",
       "      <td>9583619</td>\n",
       "      <td>323869434</td>\n",
       "      <td>1</td>\n",
       "      <td>2014-12-12 17:00:00</td>\n",
       "    </tr>\n",
       "    <tr>\n",
       "      <th>565522821</th>\n",
       "      <td>9583619</td>\n",
       "      <td>173220251</td>\n",
       "      <td>1</td>\n",
       "      <td>2014-12-12 19:00:00</td>\n",
       "    </tr>\n",
       "    <tr>\n",
       "      <th>565522822</th>\n",
       "      <td>9583619</td>\n",
       "      <td>118504121</td>\n",
       "      <td>1</td>\n",
       "      <td>2014-11-20 19:00:00</td>\n",
       "    </tr>\n",
       "    <tr>\n",
       "      <th>565522823</th>\n",
       "      <td>9583619</td>\n",
       "      <td>234772878</td>\n",
       "      <td>1</td>\n",
       "      <td>2014-11-21 20:00:00</td>\n",
       "    </tr>\n",
       "    <tr>\n",
       "      <th>565522824</th>\n",
       "      <td>9583619</td>\n",
       "      <td>187494784</td>\n",
       "      <td>1</td>\n",
       "      <td>2014-12-18 21:00:00</td>\n",
       "    </tr>\n",
       "    <tr>\n",
       "      <th>565522825</th>\n",
       "      <td>9583619</td>\n",
       "      <td>79522045</td>\n",
       "      <td>1</td>\n",
       "      <td>2014-12-12 20:00:00</td>\n",
       "    </tr>\n",
       "  </tbody>\n",
       "</table>\n",
       "</div>"
      ],
      "text/plain": [
       "           user_id    item_id  behavior_type                time\n",
       "565522820  9583619  323869434              1 2014-12-12 17:00:00\n",
       "565522821  9583619  173220251              1 2014-12-12 19:00:00\n",
       "565522822  9583619  118504121              1 2014-11-20 19:00:00\n",
       "565522823  9583619  234772878              1 2014-11-21 20:00:00\n",
       "565522824  9583619  187494784              1 2014-12-18 21:00:00\n",
       "565522825  9583619   79522045              1 2014-12-12 20:00:00"
      ]
     },
     "metadata": {},
     "output_type": "display_data"
    }
   ],
   "source": [
    "chunk"
   ]
  },
  {
   "cell_type": "code",
   "execution_count": null,
   "metadata": {},
   "outputs": [],
   "source": []
  },
  {
   "cell_type": "markdown",
   "metadata": {},
   "source": [
    "## 以下用于构建预测特征"
   ]
  },
  {
   "cell_type": "code",
   "execution_count": null,
   "metadata": {},
   "outputs": [],
   "source": [
    "# 删除user_geohash、item_category列\n",
    "behavior_data.drop(columns=['user_geohash', 'item_category'], inplace=True)\n",
    "\n",
    "behavior_data['time'] = pd.to_datetime(behavior_data['time'])"
   ]
  },
  {
   "cell_type": "code",
   "execution_count": null,
   "metadata": {},
   "outputs": [],
   "source": [
    "# 时间范围和对应的列名\n",
    "time_ranges = [\n",
    "    (1, '1_day'),\n",
    "    (3, '3_day'),\n",
    "    (7, '7_day'),\n",
    "    (15, '15_day')\n",
    "]\n",
    "day = pd.Timestamp('2014-12-19')\n",
    "# 计算每次处理的数据量\n",
    "chunk_size = len(behavior_data) // 10\n",
    "res_feature = None\n",
    "for i in tqdm(range(0, len(behavior_data), chunk_size)):\n",
    "    chunk = behavior_data.iloc[i:i + chunk_size]\n",
    "    # 如果 time 是字符串，需要转换为时间戳\n",
    "    if chunk['time'].dtype == 'O':\n",
    "        chunk['time'] = pd.to_datetime(chunk['time'])\n",
    "    chunk = cudf.from_pandas(chunk)\n",
    "    result_df = None  \n",
    "    for days, col_name in time_ranges:\n",
    "        # 按小时统计\n",
    "        dayd = day - chunk['time']\n",
    "        time_range_df = chunk[dayd.dt.seconds <= (days - dayd.dt.days) * 24 * 3600]\n",
    "        # time_range_df = time_range_df.to_pandas()\n",
    "        behavior_df = None\n",
    "        for behavior, behavior_name in zip([1, 2, 3, 4], ['view', 'collect', 'cart', 'buy']):\n",
    "            behavior_count = time_range_df[time_range_df['behavior_type'] == behavior].groupby(['user_id', 'item_id']).size().reset_index(name=f'user_item_{col_name}_{behavior_name}_count')\n",
    "            if behavior_df is None:\n",
    "                behavior_df = behavior_count\n",
    "            else:\n",
    "                behavior_df = behavior_df.merge(behavior_count, on=['user_id', 'item_id'], how='left')\n",
    "        # del behavior_count\n",
    "        if result_df is None:\n",
    "            result_df = behavior_df\n",
    "        else:\n",
    "            result_df = result_df.merge(behavior_df, on=['user_id','item_id'], how='left')\n",
    "    # del behavior_df\n",
    "    # del time_range_df\n",
    "    result_df = result_df.to_pandas()\n",
    "    if res_feature is None:\n",
    "        res_feature = result_df\n",
    "    else:\n",
    "        res_feature = pd.concat([res_feature, result_df])\n",
    "        res_feature = res_feature.groupby(['user_id','item_id']).sum().reset_index()\n",
    "# del result_df\n",
    "res_feature"
   ]
  },
  {
   "cell_type": "code",
   "execution_count": null,
   "metadata": {},
   "outputs": [],
   "source": [
    "chunk_size = len(user_item_feature) // 10\n",
    "user_item_timerange_feature = res_feature\n",
    "user_item_timerange_feature = cudf.from_pandas(user_item_timerange_feature)\n",
    "pred_feature = None\n",
    "for i in tqdm(range(1, len(user_item_feature), chunk_size)):\n",
    "    chunk = user_item_feature.iloc[i:i + chunk_size]\n",
    "    cudf_chunk = cudf.from_pandas(chunk)\n",
    "    merged = cudf_chunk.merge(user_item_timerange_feature, on=['user_id', 'item_id'], how='inner')\n",
    "    merged = merged.to_pandas()\n",
    "    if pred_feature is None:\n",
    "        pred_feature = merged\n",
    "    else:\n",
    "        pred_feature = pd.concat([pred_feature, merged])\n",
    "pred_feature"
   ]
  },
  {
   "cell_type": "code",
   "execution_count": null,
   "metadata": {},
   "outputs": [],
   "source": [
    "pred_feature.to_feather('feature/pred_feature.feather')"
   ]
  }
 ],
 "metadata": {
  "kernelspec": {
   "display_name": "rapids-24.12",
   "language": "python",
   "name": "python3"
  },
  "language_info": {
   "codemirror_mode": {
    "name": "ipython",
    "version": 3
   },
   "file_extension": ".py",
   "mimetype": "text/x-python",
   "name": "python",
   "nbconvert_exporter": "python",
   "pygments_lexer": "ipython3",
   "version": "3.12.8"
  }
 },
 "nbformat": 4,
 "nbformat_minor": 2
}
