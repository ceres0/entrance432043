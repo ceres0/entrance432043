{
 "cells": [
  {
   "cell_type": "code",
   "execution_count": 1,
   "metadata": {},
   "outputs": [],
   "source": [
    "import cudf\n",
    "import pandas as pd\n",
    "from tqdm import tqdm"
   ]
  },
  {
   "cell_type": "code",
   "execution_count": 7,
   "metadata": {},
   "outputs": [],
   "source": [
    "chunksize = 100000000\n",
    "\n",
    "# readers = [cudf.read_csv('dataset\\\\tianchi_fresh_comp_train_user_online_partA.txt', sep='\\t', header=None, names=['user_id', 'item_id', 'behavior_type', 'user_geohash', 'item_category', 'time'], chunksize=chunksize), cudf.read_csv('dataset\\\\tianchi_fresh_comp_train_user_online_partB.txt', sep='\\t', header=None, names=['user_id', 'item_id', 'behavior_type', 'user_geohash', 'item_category', 'time'], chunksize=chunksize)]\n",
    "behavior_data = pd.read_csv('dataset/tianchi_fresh_comp_train_user_online_partA.txt', sep='\\t', header=None, names=['user_id', 'item_id', 'behavior_type', 'user_geohash', 'item_category', 'time'])\n",
    "behavior_data = pd.concat([behavior_data, pd.read_csv('dataset/tianchi_fresh_comp_train_user_online_partB.txt', sep='\\t', header=None, names=['user_id', 'item_id', 'behavior_type', 'user_geohash', 'item_category', 'time'])])"
   ]
  },
  {
   "cell_type": "code",
   "execution_count": 8,
   "metadata": {},
   "outputs": [],
   "source": [
    "user_behavior = behavior_data.groupby(['user_id','item_id'])['behavior_type'].value_counts().unstack(fill_value=0)\n",
    "user_behavior.rename(columns={1: 'view_count', 2: 'collect_count', 3: 'cart_count', 4: 'buy_count'}, inplace=True)"
   ]
  },
  {
   "cell_type": "code",
   "execution_count": 3,
   "metadata": {},
   "outputs": [
    {
     "name": "stdout",
     "output_type": "stream",
     "text": [
      "444526713\n"
     ]
    }
   ],
   "source": [
    "print(len(user_behavior))"
   ]
  },
  {
   "cell_type": "code",
   "execution_count": 12,
   "metadata": {},
   "outputs": [],
   "source": [
    "import feather\n",
    "user_behavior.reset_index().to_feather('feature/user_behavior.feather')"
   ]
  },
  {
   "cell_type": "code",
   "execution_count": 4,
   "metadata": {},
   "outputs": [],
   "source": [
    "# 统计用户的总浏览次数、总收藏次数、总加购物车次数、总购买次数\n",
    "# 计算每次处理的数据量\n",
    "chunk_size = len(user_behavior) // 10\n",
    "# 存储最终结果\n",
    "user_stats = None\n",
    "item_stats = None\n",
    "\n",
    "counts = ['view_count','collect_count','cart_count','buy_count']\n",
    "\n",
    "# 分块处理\n",
    "for i in range(0, len(user_behavior), chunk_size):\n",
    "    # 取一个块的数据\n",
    "    chunk = user_behavior.iloc[i:i + chunk_size]\n",
    "    # 将 pandas DataFrame 转换为 cudf DataFrame\n",
    "    cudf_chunk = cudf.from_pandas(chunk)\n",
    "    # 按用户分组统计\n",
    "    user_group = cudf_chunk.groupby('user_id')[counts].sum()\n",
    "    # 按商品分组统计\n",
    "    item_group = cudf_chunk.groupby('item_id')[counts].sum()\n",
    "    if user_stats is None:\n",
    "        user_stats = user_group\n",
    "        item_stats = item_group\n",
    "    else:\n",
    "        user_stats = user_stats.add(user_group, fill_value=0)\n",
    "        item_stats = item_stats.add(item_group, fill_value=0)\n",
    "\n",
    "# 将结果转换回 pandas DataFrame\n",
    "# user_stats = user_stats.to_pandas().reset_index().rename(columns={elem: f'user_{elem}' for elem in counts})\n",
    "# item_stats = item_stats.to_pandas().reset_index().rename(columns={elem: f'item_{elem}' for elem in counts})\n",
    "# 修改列名\n",
    "user_stats = user_stats.reset_index().rename(columns={elem: f'user_{elem}' for elem in counts})\n",
    "item_stats = item_stats.reset_index().rename(columns={elem: f'item_{elem}' for elem in counts})\n"
   ]
  },
  {
   "cell_type": "code",
   "execution_count": 7,
   "metadata": {},
   "outputs": [
    {
     "name": "stderr",
     "output_type": "stream",
     "text": [
      "/data/gyh/envs/rapids-24.12/lib/python3.12/site-packages/cudf/io/feather.py:26: UserWarning: Using CPU via PyArrow to write Feather dataset, this may be GPU accelerated in the future\n",
      "  warnings.warn(\n"
     ]
    }
   ],
   "source": [
    "user_stats.to_feather('feature/user_feature.feather')\n",
    "item_stats.to_feather('feature/item_feature.feather')"
   ]
  },
  {
   "cell_type": "code",
   "execution_count": 2,
   "metadata": {},
   "outputs": [],
   "source": [
    "user_behavior = pd.read_feather('feature/user_behavior.feather')"
   ]
  },
  {
   "cell_type": "code",
   "execution_count": null,
   "metadata": {},
   "outputs": [],
   "source": [
    "# 合并用户统计结果到原表\n",
    "user_behavior = pd.merge(user_behavior, user_stats, on='user_id', how='left')\n",
    "# 合并商品统计结果到原表\n",
    "user_behavior = pd.merge(user_behavior, item_stats, on='item_id', how='left')"
   ]
  },
  {
   "cell_type": "code",
   "execution_count": 6,
   "metadata": {},
   "outputs": [],
   "source": [
    "user_stats = cudf.from_pandas(user_stats)\n",
    "item_stats = cudf.from_pandas(item_stats)"
   ]
  },
  {
   "cell_type": "code",
   "execution_count": 10,
   "metadata": {},
   "outputs": [],
   "source": [
    "# 将新特征合并到原表中\n",
    "# 计算每次处理的数据量\n",
    "chunk_size = len(user_behavior) // 10\n",
    "# 存储最终结果\n",
    "user_item_feature = None\n",
    "# 分块处理\n",
    "for i in range(0, len(user_behavior), chunk_size):\n",
    "    chunk = user_behavior.iloc[i:i + chunk_size]\n",
    "    cudf_chunk = cudf.from_pandas(chunk)\n",
    "    merged = cudf_chunk.merge(user_stats, on='user_id', how='left')\n",
    "    merged = merged.merge(item_stats, on='item_id', how='left')\n",
    "    merged = merged.to_pandas()\n",
    "    if user_item_feature is None:\n",
    "        user_item_feature = merged\n",
    "    else:\n",
    "        user_item_feature = pd.concat([user_item_feature, merged])"
   ]
  },
  {
   "cell_type": "code",
   "execution_count": 12,
   "metadata": {},
   "outputs": [],
   "source": [
    "user_item_feature.to_feather('feature/user_item_feature.feather')"
   ]
  },
  {
   "cell_type": "code",
   "execution_count": 14,
   "metadata": {},
   "outputs": [],
   "source": [
    "user_item_feature = pd.read_feather('feature/user_item_feature.feather')"
   ]
  },
  {
   "cell_type": "code",
   "execution_count": 16,
   "metadata": {},
   "outputs": [],
   "source": [
    "user_item_feature['user_buy_view_rate'] = user_item_feature['user_buy_count'] / user_item_feature['user_view_count']\n",
    "user_item_feature['item_buy_view_rate'] = user_item_feature['item_buy_count'] / user_item_feature['item_view_count']"
   ]
  },
  {
   "cell_type": "code",
   "execution_count": 18,
   "metadata": {},
   "outputs": [],
   "source": [
    "user_item_feature.to_feather('feature/user_item_feature_with_rate.feather')"
   ]
  }
 ],
 "metadata": {
  "kernelspec": {
   "display_name": "rapids-24.12",
   "language": "python",
   "name": "python3"
  },
  "language_info": {
   "codemirror_mode": {
    "name": "ipython",
    "version": 3
   },
   "file_extension": ".py",
   "mimetype": "text/x-python",
   "name": "python",
   "nbconvert_exporter": "python",
   "pygments_lexer": "ipython3",
   "version": "3.12.8"
  }
 },
 "nbformat": 4,
 "nbformat_minor": 2
}
