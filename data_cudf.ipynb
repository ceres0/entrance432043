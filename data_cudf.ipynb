{
 "cells": [
  {
   "cell_type": "code",
   "execution_count": 1,
   "metadata": {},
   "outputs": [],
   "source": [
    "import cudf\n",
    "import pandas as pd\n",
    "from tqdm import tqdm"
   ]
  },
  {
   "cell_type": "code",
   "execution_count": 3,
   "metadata": {},
   "outputs": [],
   "source": [
    "# chunksize = 100000000\n",
    "# readers = [cudf.read_csv('dataset\\\\tianchi_fresh_comp_train_user_online_partA.txt', sep='\\t', header=None, names=['user_id', 'item_id', 'behavior_type', 'user_geohash', 'item_category', 'time'], chunksize=chunksize), cudf.read_csv('dataset\\\\tianchi_fresh_comp_train_user_online_partB.txt', sep='\\t', header=None, names=['user_id', 'item_id', 'behavior_type', 'user_geohash', 'item_category', 'time'], chunksize=chunksize)]\n",
    "behavior_data = pd.read_csv('dataset/tianchi_fresh_comp_train_user_online_partA.txt', sep='\\t', header=None, names=['user_id', 'item_id', 'behavior_type', 'user_geohash', 'item_category', 'time'])\n",
    "behavior_data = pd.concat([behavior_data, pd.read_csv('dataset/tianchi_fresh_comp_train_user_online_partB.txt', sep='\\t', header=None, names=['user_id', 'item_id', 'behavior_type', 'user_geohash', 'item_category', 'time'])])"
   ]
  },
  {
   "cell_type": "code",
   "execution_count": 4,
   "metadata": {},
   "outputs": [],
   "source": [
    "behavior_data.to_feather('dataset/behavior_data.feather')"
   ]
  },
  {
   "cell_type": "code",
   "execution_count": 2,
   "metadata": {},
   "outputs": [],
   "source": [
    "behavior_data = pd.read_feather('dataset/behavior_data.feather')\n",
    "\n",
    "user_behavior = pd.read_feather('feature/user_behavior.feather')"
   ]
  },
  {
   "cell_type": "code",
   "execution_count": 38,
   "metadata": {},
   "outputs": [],
   "source": [
    "item_data = pd.read_csv('dataset/tianchi_fresh_comp_train_item_online.txt', sep='\\t', header=None, names=['item_id', 'item_geohash', 'item_category'])\n",
    "item_data.to_feather('dataset/item_data.feather')"
   ]
  },
  {
   "cell_type": "markdown",
   "metadata": {},
   "source": [
    "## 以下进行前期数据统计"
   ]
  },
  {
   "cell_type": "code",
   "execution_count": 31,
   "metadata": {},
   "outputs": [
    {
     "name": "stderr",
     "output_type": "stream",
     "text": [
      "100%|██████████| 11/11 [02:42<00:00, 14.80s/it]\n"
     ]
    }
   ],
   "source": [
    "# 统计每日购买行为数量\n",
    "chunksize = len(behavior_data) // 10\n",
    "buy_status = None\n",
    "for i in tqdm(range(1, len(behavior_data), chunksize)):\n",
    "    chunk = behavior_data[i:i+chunksize]\n",
    "    cudf_chunk = cudf.DataFrame(chunk)\n",
    "    # time\n",
    "    cudf_chunk['time'] = cudf_chunk['time'].str.slice(0, 10)\n",
    "    buy_count = cudf_chunk[cudf_chunk['behavior_type'] == 4].groupby('time').size().reset_index(name='buy_num')\n",
    "    if buy_status is None:\n",
    "        buy_status = buy_count\n",
    "    else:\n",
    "        buy_status = cudf.concat([buy_status, buy_count])\n",
    "        buy_status = buy_status.groupby('time').sum().reset_index().sort_values('time')\n"
   ]
  },
  {
   "cell_type": "code",
   "execution_count": 32,
   "metadata": {},
   "outputs": [],
   "source": [
    "buy_status = buy_status.to_pandas()\n",
    "buy_status['time']=pd.to_datetime(buy_status['time'])"
   ]
  },
  {
   "cell_type": "code",
   "execution_count": 24,
   "metadata": {},
   "outputs": [
    {
     "data": {
      "image/png": "[encoded data removed]",
      "text/plain": [
       "<Figure size 640x480 with 1 Axes>"
      ]
     },
     "metadata": {},
     "output_type": "display_data"
    }
   ],
   "source": [
    "# 绘制条形图\n",
    "import matplotlib.pyplot as plt\n",
    "# buy_status['time'] = buy_status['time'].astype('datetime64').sort_values('time')\n",
    "plt.bar(buy_status['time'].values, buy_status['buy_num'].values)\n",
    "# 拉长图片\n",
    "plt.gcf().autofmt_xdate()\n",
    "plt.show()"
   ]
  },
  {
   "cell_type": "code",
   "execution_count": 33,
   "metadata": {},
   "outputs": [],
   "source": [
    "# 购买时间转变为字符串\n",
    "buy_status['time'] = buy_status['time'].astype('str')"
   ]
  },
  {
   "cell_type": "code",
   "execution_count": 35,
   "metadata": {},
   "outputs": [
    {
     "name": "stdout",
     "output_type": "stream",
     "text": [
      "301913 365579 332478.13333333336\n"
     ]
    }
   ],
   "source": [
    "buy_status_clean = buy_status[buy_status['time'] != '2014-12-12']\n",
    "print(buy_status_clean['buy_num'].min(), buy_status_clean['buy_num'].max(), buy_status_clean['buy_num'].mean())"
   ]
  },
  {
   "cell_type": "markdown",
   "metadata": {},
   "source": [
    "## 以下为用户和商品特征提取"
   ]
  },
  {
   "cell_type": "code",
   "execution_count": 8,
   "metadata": {},
   "outputs": [],
   "source": [
    "user_behavior = behavior_data.groupby(['user_id','item_id'])['behavior_type'].value_counts().unstack(fill_value=0)\n",
    "user_behavior.rename(columns={1: 'view_count', 2: 'collect_count', 3: 'cart_count', 4: 'buy_count'}, inplace=True)"
   ]
  },
  {
   "cell_type": "code",
   "execution_count": 12,
   "metadata": {},
   "outputs": [],
   "source": [
    "import feather\n",
    "user_behavior.reset_index().to_feather('feature/user_behavior.feather')"
   ]
  },
  {
   "cell_type": "code",
   "execution_count": 4,
   "metadata": {},
   "outputs": [],
   "source": [
    "# 统计用户的总浏览次数、总收藏次数、总加购物车次数、总购买次数\n",
    "# 计算每次处理的数据量\n",
    "chunk_size = len(user_behavior) // 10\n",
    "# 存储最终结果\n",
    "user_stats = None\n",
    "item_stats = None\n",
    "\n",
    "counts = ['view_count','collect_count','cart_count','buy_count']\n",
    "\n",
    "# 分块处理\n",
    "for i in range(0, len(user_behavior), chunk_size):\n",
    "    # 取一个块的数据\n",
    "    chunk = user_behavior.iloc[i:i + chunk_size]\n",
    "    # 将 pandas DataFrame 转换为 cudf DataFrame\n",
    "    cudf_chunk = cudf.from_pandas(chunk)\n",
    "    # 按用户分组统计\n",
    "    user_group = cudf_chunk.groupby('user_id')[counts].sum()\n",
    "    # 按商品分组统计\n",
    "    item_group = cudf_chunk.groupby('item_id')[counts].sum()\n",
    "    if user_stats is None:\n",
    "        user_stats = user_group\n",
    "        item_stats = item_group\n",
    "    else:\n",
    "        user_stats = user_stats.add(user_group, fill_value=0)\n",
    "        item_stats = item_stats.add(item_group, fill_value=0)\n",
    "\n",
    "# 将结果转换回 pandas DataFrame\n",
    "# user_stats = user_stats.to_pandas().reset_index().rename(columns={elem: f'user_{elem}' for elem in counts})\n",
    "# item_stats = item_stats.to_pandas().reset_index().rename(columns={elem: f'item_{elem}' for elem in counts})\n",
    "# 修改列名\n",
    "user_stats = user_stats.reset_index().rename(columns={elem: f'user_{elem}' for elem in counts})\n",
    "item_stats = item_stats.reset_index().rename(columns={elem: f'item_{elem}' for elem in counts})\n"
   ]
  },
  {
   "cell_type": "code",
   "execution_count": null,
   "metadata": {},
   "outputs": [],
   "source": [
    "user_stats.to_feather('feature/user_feature.feather')\n",
    "item_stats.to_feather('feature/item_feature.feather')"
   ]
  },
  {
   "cell_type": "code",
   "execution_count": null,
   "metadata": {},
   "outputs": [],
   "source": [
    "# 合并用户统计结果到原表\n",
    "user_behavior = pd.merge(user_behavior, user_stats, on='user_id', how='left')\n",
    "# 合并商品统计结果到原表\n",
    "user_behavior = pd.merge(user_behavior, item_stats, on='item_id', how='left')"
   ]
  },
  {
   "cell_type": "code",
   "execution_count": 6,
   "metadata": {},
   "outputs": [],
   "source": [
    "user_stats = cudf.from_pandas(user_stats)\n",
    "item_stats = cudf.from_pandas(item_stats)\n",
    "# 将新特征合并到原表中\n",
    "# 计算每次处理的数据量\n",
    "chunk_size = len(user_behavior) // 10\n",
    "# 存储最终结果\n",
    "user_item_feature = None\n",
    "# 分块处理\n",
    "for i in range(0, len(user_behavior), chunk_size):\n",
    "    chunk = user_behavior.iloc[i:i + chunk_size]\n",
    "    cudf_chunk = cudf.from_pandas(chunk)\n",
    "    merged = cudf_chunk.merge(user_stats, on='user_id', how='left')\n",
    "    merged = merged.merge(item_stats, on='item_id', how='left')\n",
    "    merged = merged.to_pandas()\n",
    "    if user_item_feature is None:\n",
    "        user_item_feature = merged\n",
    "    else:\n",
    "        user_item_feature = pd.concat([user_item_feature, merged])"
   ]
  },
  {
   "cell_type": "code",
   "execution_count": 12,
   "metadata": {},
   "outputs": [],
   "source": [
    "user_item_feature.to_feather('feature/user_item_feature.feather')"
   ]
  },
  {
   "cell_type": "code",
   "execution_count": 14,
   "metadata": {},
   "outputs": [],
   "source": [
    "user_item_feature = pd.read_feather('feature/user_item_feature.feather')"
   ]
  },
  {
   "cell_type": "code",
   "execution_count": 16,
   "metadata": {},
   "outputs": [],
   "source": [
    "user_item_feature['user_buy_view_rate'] = user_item_feature['user_buy_count'] / user_item_feature['user_view_count']\n",
    "user_item_feature['item_buy_view_rate'] = user_item_feature['item_buy_count'] / user_item_feature['item_view_count']"
   ]
  },
  {
   "cell_type": "code",
   "execution_count": 18,
   "metadata": {},
   "outputs": [],
   "source": [
    "user_item_feature.to_feather('feature/user_item_feature_with_rate.feather')"
   ]
  },
  {
   "cell_type": "markdown",
   "metadata": {},
   "source": [
    "## 以下开始基于时间跨度对交叉特征进行提取"
   ]
  },
  {
   "cell_type": "code",
   "execution_count": 3,
   "metadata": {},
   "outputs": [],
   "source": [
    "# 删除user_geohash、item_category列\n",
    "behavior_data.drop(columns=['user_geohash', 'item_category'], inplace=True)\n",
    "behavior_data['time'] = pd.to_datetime(behavior_data['time'])"
   ]
  },
  {
   "cell_type": "code",
   "execution_count": null,
   "metadata": {},
   "outputs": [],
   "source": [
    "# 时间范围和对应的列名\n",
    "time_ranges = [\n",
    "    (1, '1_day'),\n",
    "    (3, '3_day'),\n",
    "    (7, '7_day'),\n",
    "    (15, '15_day')\n",
    "]\n",
    "date_range = pd.date_range('2014-12-16', '2014-12-18', freq='D')\n",
    "# day = pd.Timestamp('2014-12-16')\n",
    "final_feature = None\n",
    "# 计算每次处理的数据量\n",
    "chunk_size = len(behavior_data) // 10\n",
    "for day in date_range:\n",
    "    res_feature = None\n",
    "    for i in tqdm(range(0, len(behavior_data), chunk_size)):\n",
    "        chunk = behavior_data.iloc[i:i + chunk_size]\n",
    "        # 如果 time 是字符串，需要转换为时间戳\n",
    "        if chunk['time'].dtype == 'O':\n",
    "            chunk['time'] = pd.to_datetime(chunk['time'])\n",
    "        chunk = cudf.from_pandas(chunk)\n",
    "        result_df = None  \n",
    "        for days, col_name in time_ranges:\n",
    "            # 按小时统计\n",
    "            dayd = day - chunk['time']\n",
    "            time_range_df = chunk[(day >= chunk['time']) & (dayd.dt.seconds <= (days - dayd.dt.days) * 24 * 3600)]\n",
    "            # time_range_df = chunk[dayd.dt.seconds <= (days - dayd.dt.days) * 24 * 3600]\n",
    "            # time_range_df = time_range_df.to_pandas()\n",
    "            behavior_df = None\n",
    "            for behavior, behavior_name in zip([1, 2, 3, 4], ['view', 'collect', 'cart', 'buy']):\n",
    "                behavior_count = time_range_df[time_range_df['behavior_type'] == behavior].groupby(['user_id', 'item_id']).size().reset_index(name=f'user_item_{col_name}_{behavior_name}_count')\n",
    "                if behavior_df is None:\n",
    "                    behavior_df = behavior_count\n",
    "                else:\n",
    "                    behavior_df = behavior_df.merge(behavior_count, on=['user_id', 'item_id'], how='left')\n",
    "            # del behavior_count\n",
    "            # 删除 time 列\n",
    "            # behavior_count.drop(columns='time', inplace=True)\n",
    "            if result_df is None:\n",
    "                result_df = behavior_df\n",
    "            else:\n",
    "                result_df = result_df.merge(behavior_df, on=['user_id','item_id'], how='left')\n",
    "        # del behavior_df\n",
    "        # del time_range_df\n",
    "        # 添加标签，即预测的日期有购买行为\n",
    "        label_df = chunk[(day <= chunk['time']) & ((chunk['time'] - day).dt.days < 1) & (chunk['behavior_type'] == 4)].groupby(['user_id', 'item_id']).size().reset_index(name='label')\n",
    "        # 将标签合并到结果中，如果没有购买行为，则标签为 0\n",
    "        result_df = result_df.merge(label_df, on=['user_id', 'item_id'], how='outer').fillna(0)\n",
    "        result_df = result_df.to_pandas()\n",
    "        if res_feature is None:\n",
    "            res_feature = result_df\n",
    "        else:\n",
    "            res_feature = pd.concat([res_feature, result_df])\n",
    "            res_feature = res_feature.groupby(['user_id','item_id']).sum().reset_index()\n",
    "    # del result_df\n",
    "    # print(len(res_feature))\n",
    "    res_feature['pred_date'] = day\n",
    "    # 将标签转化为0-1\n",
    "    res_feature['label'] = res_feature['label'].apply(lambda x: 1 if x > 0 else 0)\n",
    "    if final_feature is None:\n",
    "        final_feature = res_feature\n",
    "    else:\n",
    "        final_feature = pd.concat([final_feature, res_feature])\n",
    "# del res_feature\n",
    "final_feature"
   ]
  },
  {
   "cell_type": "code",
   "execution_count": 5,
   "metadata": {},
   "outputs": [],
   "source": [
    "final_feature.to_feather('feature/user_item_timerange_feature.feather')"
   ]
  },
  {
   "cell_type": "code",
   "execution_count": null,
   "metadata": {},
   "outputs": [],
   "source": [
    "import gc\n",
    "gc.collect()"
   ]
  },
  {
   "cell_type": "code",
   "execution_count": null,
   "metadata": {},
   "outputs": [],
   "source": [
    "user_item_timerange_feature = pd.read_feather('feature/user_item_timerange_feature.feather')\n",
    "user_item_timerange_feature"
   ]
  },
  {
   "cell_type": "code",
   "execution_count": null,
   "metadata": {},
   "outputs": [],
   "source": [
    "user_item_feature = pd.read_feather('feature/user_item_feature_with_rate.feather')\n",
    "user_item_feature"
   ]
  },
  {
   "cell_type": "code",
   "execution_count": null,
   "metadata": {},
   "outputs": [],
   "source": [
    "train_feature = final_feature.merge(user_item_feature, on=['user_id', 'item_id'], how='left')"
   ]
  },
  {
   "cell_type": "code",
   "execution_count": null,
   "metadata": {},
   "outputs": [],
   "source": [
    "chunk_size = len(user_item_feature) // 10\n",
    "user_item_timerange_feature = cudf.from_pandas(user_item_timerange_feature)\n",
    "train_feature = None\n",
    "for i in tqdm(range(1, len(user_item_feature), chunk_size)):\n",
    "    chunk = user_item_feature.iloc[i:i + chunk_size]\n",
    "    cudf_chunk = cudf.from_pandas(chunk)\n",
    "    merged = cudf_chunk.merge(user_item_timerange_feature, on=['user_id', 'item_id'], how='inner')\n",
    "    merged = merged.to_pandas()\n",
    "    if train_feature is None:\n",
    "        train_feature = merged\n",
    "    else:\n",
    "        train_feature = pd.concat([train_feature, merged])"
   ]
  },
  {
   "cell_type": "code",
   "execution_count": null,
   "metadata": {},
   "outputs": [],
   "source": [
    "train_feature"
   ]
  },
  {
   "cell_type": "code",
   "execution_count": 10,
   "metadata": {},
   "outputs": [],
   "source": [
    "train_feature.to_feather('feature/train_feature.feather')"
   ]
  },
  {
   "cell_type": "markdown",
   "metadata": {},
   "source": [
    "## 以下用于构建预测特征"
   ]
  },
  {
   "cell_type": "code",
   "execution_count": null,
   "metadata": {},
   "outputs": [],
   "source": [
    "# 删除user_geohash、item_category列\n",
    "behavior_data.drop(columns=['user_geohash', 'item_category'], inplace=True)\n",
    "\n",
    "behavior_data['time'] = pd.to_datetime(behavior_data['time'])"
   ]
  },
  {
   "cell_type": "code",
   "execution_count": null,
   "metadata": {},
   "outputs": [],
   "source": [
    "# 时间范围和对应的列名\n",
    "time_ranges = [\n",
    "    (1, '1_day'),\n",
    "    (3, '3_day'),\n",
    "    (7, '7_day'),\n",
    "    (15, '15_day')\n",
    "]\n",
    "day = pd.Timestamp('2014-12-19')\n",
    "# 计算每次处理的数据量\n",
    "chunk_size = len(behavior_data) // 10\n",
    "res_feature = None\n",
    "for i in tqdm(range(0, len(behavior_data), chunk_size)):\n",
    "    chunk = behavior_data.iloc[i:i + chunk_size]\n",
    "    # 如果 time 是字符串，需要转换为时间戳\n",
    "    if chunk['time'].dtype == 'O':\n",
    "        chunk['time'] = pd.to_datetime(chunk['time'])\n",
    "    chunk = cudf.from_pandas(chunk)\n",
    "    result_df = None  \n",
    "    for days, col_name in time_ranges:\n",
    "        # 按小时统计\n",
    "        dayd = day - chunk['time']\n",
    "        time_range_df = chunk[dayd.dt.seconds <= (days - dayd.dt.days) * 24 * 3600]\n",
    "        # time_range_df = time_range_df.to_pandas()\n",
    "        behavior_df = None\n",
    "        for behavior, behavior_name in zip([1, 2, 3, 4], ['view', 'collect', 'cart', 'buy']):\n",
    "            behavior_count = time_range_df[time_range_df['behavior_type'] == behavior].groupby(['user_id', 'item_id']).size().reset_index(name=f'user_item_{col_name}_{behavior_name}_count')\n",
    "            if behavior_df is None:\n",
    "                behavior_df = behavior_count\n",
    "            else:\n",
    "                behavior_df = behavior_df.merge(behavior_count, on=['user_id', 'item_id'], how='left')\n",
    "        # del behavior_count\n",
    "        if result_df is None:\n",
    "            result_df = behavior_df\n",
    "        else:\n",
    "            result_df = result_df.merge(behavior_df, on=['user_id','item_id'], how='left')\n",
    "    # del behavior_df\n",
    "    # del time_range_df\n",
    "    result_df = result_df.to_pandas()\n",
    "    if res_feature is None:\n",
    "        res_feature = result_df\n",
    "    else:\n",
    "        res_feature = pd.concat([res_feature, result_df])\n",
    "        res_feature = res_feature.groupby(['user_id','item_id']).sum().reset_index()\n",
    "# del result_df\n",
    "res_feature"
   ]
  },
  {
   "cell_type": "code",
   "execution_count": null,
   "metadata": {},
   "outputs": [],
   "source": [
    "chunk_size = len(user_item_feature) // 10\n",
    "user_item_timerange_feature = res_feature\n",
    "user_item_timerange_feature = cudf.from_pandas(user_item_timerange_feature)\n",
    "pred_feature = None\n",
    "for i in tqdm(range(1, len(user_item_feature), chunk_size)):\n",
    "    chunk = user_item_feature.iloc[i:i + chunk_size]\n",
    "    cudf_chunk = cudf.from_pandas(chunk)\n",
    "    merged = cudf_chunk.merge(user_item_timerange_feature, on=['user_id', 'item_id'], how='inner')\n",
    "    merged = merged.to_pandas()\n",
    "    if pred_feature is None:\n",
    "        pred_feature = merged\n",
    "    else:\n",
    "        pred_feature = pd.concat([pred_feature, merged])\n",
    "pred_feature"
   ]
  },
  {
   "cell_type": "code",
   "execution_count": null,
   "metadata": {},
   "outputs": [],
   "source": [
    "pred_feature.to_feather('feature/pred_feature.feather')"
   ]
  }
 ],
 "metadata": {
  "kernelspec": {
   "display_name": "rapids-24.12",
   "language": "python",
   "name": "python3"
  },
  "language_info": {
   "codemirror_mode": {
    "name": "ipython",
    "version": 3
   },
   "file_extension": ".py",
   "mimetype": "text/x-python",
   "name": "python",
   "nbconvert_exporter": "python",
   "pygments_lexer": "ipython3",
   "version": "3.12.8"
  }
 },
 "nbformat": 4,
 "nbformat_minor": 2
}
